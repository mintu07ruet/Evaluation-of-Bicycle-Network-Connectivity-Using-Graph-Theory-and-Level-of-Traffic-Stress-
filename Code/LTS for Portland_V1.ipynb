{
 "cells": [
  {
   "cell_type": "code",
   "execution_count": 3,
   "id": "3333aa90",
   "metadata": {},
   "outputs": [],
   "source": [
    "#!pip install pybna"
   ]
  },
  {
   "cell_type": "code",
   "execution_count": 1,
   "id": "9d382947",
   "metadata": {},
   "outputs": [],
   "source": [
    "#!pip install -r requirements.txt\n",
    "#!pip install SQLAlchemy"
   ]
  },
  {
   "cell_type": "code",
   "execution_count": 2,
   "id": "ab3c2c49",
   "metadata": {},
   "outputs": [],
   "source": [
    "from collections.abc import Mapping"
   ]
  },
  {
   "cell_type": "code",
   "execution_count": 3,
   "id": "0344b53c",
   "metadata": {},
   "outputs": [],
   "source": [
    "from distutils.version import LooseVersion"
   ]
  },
  {
   "cell_type": "code",
   "execution_count": 4,
   "id": "b8253636",
   "metadata": {},
   "outputs": [
    {
     "name": "stderr",
     "output_type": "stream",
     "text": [
      "C:\\Users\\Md Mintu Miah\\anaconda3\\envs\\geo_env\\lib\\site-packages\\geopandas\\_compat.py:112: UserWarning: The Shapely GEOS version (3.11.0-CAPI-1.17.0) is incompatible with the GEOS version PyGEOS was compiled with (3.10.1-CAPI-1.16.0). Conversions between both will be slow.\n",
      "  warnings.warn(\n"
     ]
    }
   ],
   "source": [
    "from pybna import Importer"
   ]
  },
  {
   "cell_type": "code",
   "execution_count": 5,
   "id": "eeaf7425",
   "metadata": {},
   "outputs": [],
   "source": [
    "import geopandas as gpd"
   ]
  },
  {
   "cell_type": "code",
   "execution_count": 6,
   "id": "d200f249",
   "metadata": {},
   "outputs": [],
   "source": [
    "import pybna"
   ]
  },
  {
   "cell_type": "code",
   "execution_count": 7,
   "id": "a38ff21d",
   "metadata": {},
   "outputs": [
    {
     "name": "stderr",
     "output_type": "stream",
     "text": [
      "C:\\Users\\Md Mintu Miah\\anaconda3\\envs\\geo_env\\lib\\site-packages\\pybna\\importer.py:58: ResourceWarning: unclosed file <_io.TextIOWrapper name='config.yaml' mode='r' encoding='cp1252'>\n",
      "  self.config = self.parse_config(yaml.safe_load(open(config)))\n",
      "ResourceWarning: Enable tracemalloc to get the object allocation traceback\n"
     ]
    },
    {
     "name": "stdout",
     "output_type": "stream",
     "text": [
      "Connecting to database\n",
      "Copying boundary to database\n",
      "Loading boundary\n"
     ]
    },
    {
     "name": "stderr",
     "output_type": "stream",
     "text": [
      "C:\\Users\\Md Mintu Miah\\anaconda3\\envs\\geo_env\\lib\\site-packages\\pandas\\io\\sql.py:761: UserWarning: pandas only support SQLAlchemy connectable(engine/connection) ordatabase string URI or sqlite3 DBAPI2 connectionother DBAPI2 objects are not tested, please consider using SQLAlchemy\n",
      "  warnings.warn(\n"
     ]
    },
    {
     "name": "stdout",
     "output_type": "stream",
     "text": [
      "Loading data from http://www2.census.gov/geo/tiger/TIGER2010BLKPOPHU/tabblock2010_41_pophu.zip\n",
      "Filtering blocks to boundary\n",
      "Filtering out water\n",
      "Copying blocks to database\n",
      "Loading data for state OR\n",
      "No data for state OR for year 2020. Checking previous year.\n"
     ]
    },
    {
     "name": "stderr",
     "output_type": "stream",
     "text": [
      "C:\\Users\\Md Mintu Miah\\anaconda3\\envs\\geo_env\\lib\\site-packages\\pybna\\importer.py:351: FutureWarning: The frame.append method is deprecated and will be removed from pandas in a future version. Use pandas.concat instead.\n",
      "  jobs = jobs_main.append(jobs_aux,ignore_index=True)\n"
     ]
    },
    {
     "name": "stdout",
     "output_type": "stream",
     "text": [
      "Copying jobs to database\n",
      "CPU times: total: 35.8 s\n",
      "Wall time: 1min 29s\n"
     ]
    }
   ],
   "source": [
    "%%time\n",
    "i = pybna.Importer(config=\"config.yaml\")\n",
    "i.import_boundary('city_of_portland_boundary.shp', overwrite=True)\n",
    "i.import_census_blocks(fips=41, overwrite=True)\n",
    "i.import_census_jobs(\"received.neighborhood_census_block_jobs\",state=\"OR\", overwrite=True)"
   ]
  },
  {
   "cell_type": "code",
   "execution_count": 8,
   "id": "4d2a9a68",
   "metadata": {},
   "outputs": [
    {
     "name": "stderr",
     "output_type": "stream",
     "text": [
      "C:\\Users\\Md Mintu Miah\\anaconda3\\envs\\geo_env\\lib\\site-packages\\pandas\\io\\sql.py:761: UserWarning: pandas only support SQLAlchemy connectable(engine/connection) ordatabase string URI or sqlite3 DBAPI2 connectionother DBAPI2 objects are not tested, please consider using SQLAlchemy\n",
      "  warnings.warn(\n"
     ]
    },
    {
     "name": "stdout",
     "output_type": "stream",
     "text": [
      "Downloading OSM data\n"
     ]
    },
    {
     "name": "stderr",
     "output_type": "stream",
     "text": [
      "C:\\Users\\Md Mintu Miah\\anaconda3\\envs\\geo_env\\lib\\site-packages\\osmnx\\utils.py:192: UserWarning: The `utils.config` function is deprecated and will be removed in a future release. Instead, use the `settings` module directly to configure a global setting's value. For example, `ox.settings.log_console=True`.\n",
      "  warnings.warn(\n"
     ]
    },
    {
     "name": "stdout",
     "output_type": "stream",
     "text": [
      "Copying OSM ways to database\n",
      "Copying OSM intersections to database\n",
      "Processing OSM data in database\n",
      "CPU times: total: 4min 28s\n",
      "Wall time: 5min 9s\n"
     ]
    }
   ],
   "source": [
    "%%time\n",
    "i.import_osm_network(overwrite=True)"
   ]
  },
  {
   "cell_type": "code",
   "execution_count": 9,
   "id": "af76d835",
   "metadata": {},
   "outputs": [
    {
     "name": "stdout",
     "output_type": "stream",
     "text": [
      "Copying bna_schools to database\n"
     ]
    },
    {
     "name": "stderr",
     "output_type": "stream",
     "text": [
      "C:\\Users\\Md Mintu Miah\\anaconda3\\envs\\geo_env\\lib\\site-packages\\pandas\\io\\sql.py:761: UserWarning: pandas only support SQLAlchemy connectable(engine/connection) ordatabase string URI or sqlite3 DBAPI2 connectionother DBAPI2 objects are not tested, please consider using SQLAlchemy\n",
      "  warnings.warn(\n"
     ]
    },
    {
     "name": "stdout",
     "output_type": "stream",
     "text": [
      "Copying bna_colleges to database\n",
      "Copying bna_universities to database\n",
      "Copying bna_doctors to database\n",
      "Copying bna_dentists to database\n",
      "Copying bna_hospitals to database\n",
      "Copying bna_pharmacies to database\n",
      "Copying bna_supermarkets to database\n",
      "Copying bna_social_services to database\n",
      "Copying bna_parks to database\n",
      "Copying bna_community_centers to database\n",
      "Copying bna_retail to database\n",
      "Copying bna_transit to database\n",
      "CPU times: total: 1.33 s\n",
      "Wall time: 1min 59s\n"
     ]
    }
   ],
   "source": [
    "%%time\n",
    "i.import_osm_destinations(overwrite=True)\n",
    "# Increase the timeout in your importer file if your computer is weak to avoid error"
   ]
  },
  {
   "cell_type": "code",
   "execution_count": 12,
   "id": "2a6de739",
   "metadata": {},
   "outputs": [
    {
     "name": "stderr",
     "output_type": "stream",
     "text": [
      "C:\\Users\\Md Mintu Miah\\anaconda3\\envs\\geo_env\\lib\\site-packages\\pybna\\stress.py:46: ResourceWarning: unclosed file <_io.TextIOWrapper name='config.yaml' mode='r' encoding='cp1252'>\n",
      "  self.config = self.parse_config(yaml.safe_load(open(config)))\n",
      "ResourceWarning: Enable tracemalloc to get the object allocation traceback\n"
     ]
    },
    {
     "name": "stdout",
     "output_type": "stream",
     "text": [
      "Connecting to database\n",
      "Calculating stress on shared streets\n",
      "Calculating stress on streets with bike lanes\n",
      "Calculating stress on streets with cycle tracks\n",
      "Calculating stress on paths\n",
      "Calculating stress on shared streets\n",
      "Calculating stress on streets with bike lanes\n",
      "Calculating stress on streets with cycle tracks\n",
      "Calculating stress on paths\n",
      "  ....forward\n",
      "  ....backward\n",
      "CPU times: total: 109 ms\n",
      "Wall time: 34.5 s\n"
     ]
    }
   ],
   "source": [
    "%%time\n",
    "# stress\n",
    "s = pybna.Stress(config='config.yaml')\n",
    "s.segment_stress()\n",
    "s.crossing_stress()"
   ]
  },
  {
   "cell_type": "code",
   "execution_count": null,
   "id": "e4d412c8",
   "metadata": {},
   "outputs": [],
   "source": [
    "# End of the code"
   ]
  }
 ],
 "metadata": {
  "kernelspec": {
   "display_name": "Python 3 (ipykernel)",
   "language": "python",
   "name": "python3"
  },
  "language_info": {
   "codemirror_mode": {
    "name": "ipython",
    "version": 3
   },
   "file_extension": ".py",
   "mimetype": "text/x-python",
   "name": "python",
   "nbconvert_exporter": "python",
   "pygments_lexer": "ipython3",
   "version": "3.10.5"
  }
 },
 "nbformat": 4,
 "nbformat_minor": 5
}
