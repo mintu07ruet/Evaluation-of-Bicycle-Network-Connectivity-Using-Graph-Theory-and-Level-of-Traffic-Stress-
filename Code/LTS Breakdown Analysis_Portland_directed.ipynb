{
 "cells": [
  {
   "cell_type": "code",
   "execution_count": 1,
   "id": "c2df9d74",
   "metadata": {},
   "outputs": [
    {
     "name": "stderr",
     "output_type": "stream",
     "text": [
      "C:\\Users\\mxm5116\\.conda\\envs\\geo_env\\lib\\site-packages\\geopandas\\_compat.py:111: UserWarning: The Shapely GEOS version (3.10.2-CAPI-1.16.0) is incompatible with the GEOS version PyGEOS was compiled with (3.10.1-CAPI-1.16.0). Conversions between both will be slow.\n",
      "  warnings.warn(\n"
     ]
    }
   ],
   "source": [
    "import pandas as pd\n",
    "import geopandas as gpd\n",
    "from shapely.geometry import shape\n",
    "import fiona\n",
    "from shapely.ops import unary_union\n",
    "import networkx as nx\n",
    "import itertools\n",
    "import osmnx as ox\n",
    "import math\n",
    "import momepy\n",
    "import matplotlib.pyplot as plt"
   ]
  },
  {
   "cell_type": "code",
   "execution_count": 229,
   "id": "8a2ac73f",
   "metadata": {},
   "outputs": [],
   "source": [
    "#!pip install momepy"
   ]
  },
  {
   "cell_type": "code",
   "execution_count": 77,
   "id": "231f3bd9",
   "metadata": {},
   "outputs": [
    {
     "data": {
      "text/html": [
       "<div>\n",
       "<style scoped>\n",
       "    .dataframe tbody tr th:only-of-type {\n",
       "        vertical-align: middle;\n",
       "    }\n",
       "\n",
       "    .dataframe tbody tr th {\n",
       "        vertical-align: top;\n",
       "    }\n",
       "\n",
       "    .dataframe thead th {\n",
       "        text-align: right;\n",
       "    }\n",
       "</style>\n",
       "<table border=\"1\" class=\"dataframe\">\n",
       "  <thead>\n",
       "    <tr style=\"text-align: right;\">\n",
       "      <th></th>\n",
       "      <th>ROAD_ID</th>\n",
       "      <th>OSMID</th>\n",
       "      <th>FUNCTIONAL</th>\n",
       "      <th>PATH_ID</th>\n",
       "      <th>ONE_WAY</th>\n",
       "      <th>INTERSECTI</th>\n",
       "      <th>INTERSE_01</th>\n",
       "      <th>WIDTH</th>\n",
       "      <th>SPEED_LIMI</th>\n",
       "      <th>FT_BIKE_IN</th>\n",
       "      <th>...</th>\n",
       "      <th>TF_CROSS_L</th>\n",
       "      <th>TWLTL_CROS</th>\n",
       "      <th>FT_PARK</th>\n",
       "      <th>TF_PARK</th>\n",
       "      <th>FT_SEG_STR</th>\n",
       "      <th>FT_INT_STR</th>\n",
       "      <th>TF_SEG_STR</th>\n",
       "      <th>TF_INT_STR</th>\n",
       "      <th>XWALK</th>\n",
       "      <th>geometry</th>\n",
       "    </tr>\n",
       "  </thead>\n",
       "  <tbody>\n",
       "    <tr>\n",
       "      <th>0</th>\n",
       "      <td>88122</td>\n",
       "      <td>{1066037743}</td>\n",
       "      <td>secondary</td>\n",
       "      <td>None</td>\n",
       "      <td>ft</td>\n",
       "      <td>59331</td>\n",
       "      <td>59328</td>\n",
       "      <td>NaN</td>\n",
       "      <td>35.0</td>\n",
       "      <td>None</td>\n",
       "      <td>...</td>\n",
       "      <td>None</td>\n",
       "      <td>None</td>\n",
       "      <td>?</td>\n",
       "      <td>?</td>\n",
       "      <td>4</td>\n",
       "      <td>NaN</td>\n",
       "      <td>NaN</td>\n",
       "      <td>NaN</td>\n",
       "      <td>None</td>\n",
       "      <td>LINESTRING (2336142.326 219941.724, 2336143.15...</td>\n",
       "    </tr>\n",
       "    <tr>\n",
       "      <th>1</th>\n",
       "      <td>107585</td>\n",
       "      <td>{418756522}</td>\n",
       "      <td>primary</td>\n",
       "      <td>None</td>\n",
       "      <td>ft</td>\n",
       "      <td>59689</td>\n",
       "      <td>59688</td>\n",
       "      <td>NaN</td>\n",
       "      <td>40.0</td>\n",
       "      <td>None</td>\n",
       "      <td>...</td>\n",
       "      <td>None</td>\n",
       "      <td>None</td>\n",
       "      <td>?</td>\n",
       "      <td>?</td>\n",
       "      <td>4</td>\n",
       "      <td>NaN</td>\n",
       "      <td>NaN</td>\n",
       "      <td>NaN</td>\n",
       "      <td>None</td>\n",
       "      <td>LINESTRING (2340013.039 219162.377, 2340024.15...</td>\n",
       "    </tr>\n",
       "    <tr>\n",
       "      <th>2</th>\n",
       "      <td>115163</td>\n",
       "      <td>{425222593}</td>\n",
       "      <td>tertiary</td>\n",
       "      <td>None</td>\n",
       "      <td>None</td>\n",
       "      <td>47991</td>\n",
       "      <td>47992</td>\n",
       "      <td>NaN</td>\n",
       "      <td>NaN</td>\n",
       "      <td>None</td>\n",
       "      <td>...</td>\n",
       "      <td>None</td>\n",
       "      <td>None</td>\n",
       "      <td>?</td>\n",
       "      <td>?</td>\n",
       "      <td>4</td>\n",
       "      <td>NaN</td>\n",
       "      <td>4.0</td>\n",
       "      <td>NaN</td>\n",
       "      <td>None</td>\n",
       "      <td>LINESTRING (2323929.793 198346.121, 2323920.09...</td>\n",
       "    </tr>\n",
       "    <tr>\n",
       "      <th>3</th>\n",
       "      <td>116453</td>\n",
       "      <td>{396071328}</td>\n",
       "      <td>primary</td>\n",
       "      <td>None</td>\n",
       "      <td>None</td>\n",
       "      <td>25785</td>\n",
       "      <td>25786</td>\n",
       "      <td>NaN</td>\n",
       "      <td>30.0</td>\n",
       "      <td>None</td>\n",
       "      <td>...</td>\n",
       "      <td>None</td>\n",
       "      <td>None</td>\n",
       "      <td>?</td>\n",
       "      <td>?</td>\n",
       "      <td>4</td>\n",
       "      <td>NaN</td>\n",
       "      <td>4.0</td>\n",
       "      <td>NaN</td>\n",
       "      <td>None</td>\n",
       "      <td>LINESTRING (2337592.693 206789.376, 2337592.94...</td>\n",
       "    </tr>\n",
       "    <tr>\n",
       "      <th>4</th>\n",
       "      <td>125570</td>\n",
       "      <td>{5520964}</td>\n",
       "      <td>tertiary</td>\n",
       "      <td>None</td>\n",
       "      <td>None</td>\n",
       "      <td>24323</td>\n",
       "      <td>24320</td>\n",
       "      <td>NaN</td>\n",
       "      <td>NaN</td>\n",
       "      <td>None</td>\n",
       "      <td>...</td>\n",
       "      <td>None</td>\n",
       "      <td>None</td>\n",
       "      <td>?</td>\n",
       "      <td>?</td>\n",
       "      <td>4</td>\n",
       "      <td>NaN</td>\n",
       "      <td>4.0</td>\n",
       "      <td>NaN</td>\n",
       "      <td>None</td>\n",
       "      <td>LINESTRING (2346257.484 207574.150, 2346257.96...</td>\n",
       "    </tr>\n",
       "  </tbody>\n",
       "</table>\n",
       "<p>5 rows × 26 columns</p>\n",
       "</div>"
      ],
      "text/plain": [
       "   ROAD_ID         OSMID FUNCTIONAL PATH_ID ONE_WAY  INTERSECTI  INTERSE_01  \\\n",
       "0    88122  {1066037743}  secondary    None      ft       59331       59328   \n",
       "1   107585   {418756522}    primary    None      ft       59689       59688   \n",
       "2   115163   {425222593}   tertiary    None    None       47991       47992   \n",
       "3   116453   {396071328}    primary    None    None       25785       25786   \n",
       "4   125570     {5520964}   tertiary    None    None       24323       24320   \n",
       "\n",
       "   WIDTH  SPEED_LIMI FT_BIKE_IN  ... TF_CROSS_L TWLTL_CROS FT_PARK  TF_PARK  \\\n",
       "0    NaN        35.0       None  ...       None       None       ?        ?   \n",
       "1    NaN        40.0       None  ...       None       None       ?        ?   \n",
       "2    NaN         NaN       None  ...       None       None       ?        ?   \n",
       "3    NaN        30.0       None  ...       None       None       ?        ?   \n",
       "4    NaN         NaN       None  ...       None       None       ?        ?   \n",
       "\n",
       "   FT_SEG_STR FT_INT_STR TF_SEG_STR TF_INT_STR XWALK  \\\n",
       "0           4        NaN        NaN        NaN  None   \n",
       "1           4        NaN        NaN        NaN  None   \n",
       "2           4        NaN        4.0        NaN  None   \n",
       "3           4        NaN        4.0        NaN  None   \n",
       "4           4        NaN        4.0        NaN  None   \n",
       "\n",
       "                                            geometry  \n",
       "0  LINESTRING (2336142.326 219941.724, 2336143.15...  \n",
       "1  LINESTRING (2340013.039 219162.377, 2340024.15...  \n",
       "2  LINESTRING (2323929.793 198346.121, 2323920.09...  \n",
       "3  LINESTRING (2337592.693 206789.376, 2337592.94...  \n",
       "4  LINESTRING (2346257.484 207574.150, 2346257.96...  \n",
       "\n",
       "[5 rows x 26 columns]"
      ]
     },
     "execution_count": 77,
     "metadata": {},
     "output_type": "execute_result"
    }
   ],
   "source": [
    "lts_seg=gpd.read_file('F:/Paper-5_1 Bicycle Network Connectivity Measures/pybna/Stress Shape File/neighborhood_ways.shp')\n",
    "lts_seg.head()"
   ]
  },
  {
   "cell_type": "code",
   "execution_count": 78,
   "id": "2aae3e8a",
   "metadata": {},
   "outputs": [
    {
     "data": {
      "text/html": [
       "<div>\n",
       "<style scoped>\n",
       "    .dataframe tbody tr th:only-of-type {\n",
       "        vertical-align: middle;\n",
       "    }\n",
       "\n",
       "    .dataframe tbody tr th {\n",
       "        vertical-align: top;\n",
       "    }\n",
       "\n",
       "    .dataframe thead th {\n",
       "        text-align: right;\n",
       "    }\n",
       "</style>\n",
       "<table border=\"1\" class=\"dataframe\">\n",
       "  <thead>\n",
       "    <tr style=\"text-align: right;\">\n",
       "      <th></th>\n",
       "      <th>ROAD_ID</th>\n",
       "      <th>OSMID</th>\n",
       "      <th>FUNCTIONAL</th>\n",
       "      <th>PATH_ID</th>\n",
       "      <th>ONE_WAY</th>\n",
       "      <th>u</th>\n",
       "      <th>v</th>\n",
       "      <th>WIDTH</th>\n",
       "      <th>SPEED_LIMI</th>\n",
       "      <th>FT_BIKE_IN</th>\n",
       "      <th>...</th>\n",
       "      <th>TF_CROSS_L</th>\n",
       "      <th>TWLTL_CROS</th>\n",
       "      <th>FT_PARK</th>\n",
       "      <th>TF_PARK</th>\n",
       "      <th>FT_SEG_STR</th>\n",
       "      <th>FT_INT_STR</th>\n",
       "      <th>TF_SEG_STR</th>\n",
       "      <th>TF_INT_STR</th>\n",
       "      <th>XWALK</th>\n",
       "      <th>geometry</th>\n",
       "    </tr>\n",
       "  </thead>\n",
       "  <tbody>\n",
       "    <tr>\n",
       "      <th>0</th>\n",
       "      <td>88122</td>\n",
       "      <td>{1066037743}</td>\n",
       "      <td>secondary</td>\n",
       "      <td>None</td>\n",
       "      <td>ft</td>\n",
       "      <td>59331</td>\n",
       "      <td>59328</td>\n",
       "      <td>NaN</td>\n",
       "      <td>35.0</td>\n",
       "      <td>None</td>\n",
       "      <td>...</td>\n",
       "      <td>None</td>\n",
       "      <td>None</td>\n",
       "      <td>?</td>\n",
       "      <td>?</td>\n",
       "      <td>4</td>\n",
       "      <td>NaN</td>\n",
       "      <td>NaN</td>\n",
       "      <td>NaN</td>\n",
       "      <td>None</td>\n",
       "      <td>LINESTRING (2336142.326 219941.724, 2336143.15...</td>\n",
       "    </tr>\n",
       "    <tr>\n",
       "      <th>1</th>\n",
       "      <td>107585</td>\n",
       "      <td>{418756522}</td>\n",
       "      <td>primary</td>\n",
       "      <td>None</td>\n",
       "      <td>ft</td>\n",
       "      <td>59689</td>\n",
       "      <td>59688</td>\n",
       "      <td>NaN</td>\n",
       "      <td>40.0</td>\n",
       "      <td>None</td>\n",
       "      <td>...</td>\n",
       "      <td>None</td>\n",
       "      <td>None</td>\n",
       "      <td>?</td>\n",
       "      <td>?</td>\n",
       "      <td>4</td>\n",
       "      <td>NaN</td>\n",
       "      <td>NaN</td>\n",
       "      <td>NaN</td>\n",
       "      <td>None</td>\n",
       "      <td>LINESTRING (2340013.039 219162.377, 2340024.15...</td>\n",
       "    </tr>\n",
       "    <tr>\n",
       "      <th>2</th>\n",
       "      <td>115163</td>\n",
       "      <td>{425222593}</td>\n",
       "      <td>tertiary</td>\n",
       "      <td>None</td>\n",
       "      <td>None</td>\n",
       "      <td>47991</td>\n",
       "      <td>47992</td>\n",
       "      <td>NaN</td>\n",
       "      <td>NaN</td>\n",
       "      <td>None</td>\n",
       "      <td>...</td>\n",
       "      <td>None</td>\n",
       "      <td>None</td>\n",
       "      <td>?</td>\n",
       "      <td>?</td>\n",
       "      <td>4</td>\n",
       "      <td>NaN</td>\n",
       "      <td>4.0</td>\n",
       "      <td>NaN</td>\n",
       "      <td>None</td>\n",
       "      <td>LINESTRING (2323929.793 198346.121, 2323920.09...</td>\n",
       "    </tr>\n",
       "    <tr>\n",
       "      <th>3</th>\n",
       "      <td>116453</td>\n",
       "      <td>{396071328}</td>\n",
       "      <td>primary</td>\n",
       "      <td>None</td>\n",
       "      <td>None</td>\n",
       "      <td>25785</td>\n",
       "      <td>25786</td>\n",
       "      <td>NaN</td>\n",
       "      <td>30.0</td>\n",
       "      <td>None</td>\n",
       "      <td>...</td>\n",
       "      <td>None</td>\n",
       "      <td>None</td>\n",
       "      <td>?</td>\n",
       "      <td>?</td>\n",
       "      <td>4</td>\n",
       "      <td>NaN</td>\n",
       "      <td>4.0</td>\n",
       "      <td>NaN</td>\n",
       "      <td>None</td>\n",
       "      <td>LINESTRING (2337592.693 206789.376, 2337592.94...</td>\n",
       "    </tr>\n",
       "    <tr>\n",
       "      <th>4</th>\n",
       "      <td>125570</td>\n",
       "      <td>{5520964}</td>\n",
       "      <td>tertiary</td>\n",
       "      <td>None</td>\n",
       "      <td>None</td>\n",
       "      <td>24323</td>\n",
       "      <td>24320</td>\n",
       "      <td>NaN</td>\n",
       "      <td>NaN</td>\n",
       "      <td>None</td>\n",
       "      <td>...</td>\n",
       "      <td>None</td>\n",
       "      <td>None</td>\n",
       "      <td>?</td>\n",
       "      <td>?</td>\n",
       "      <td>4</td>\n",
       "      <td>NaN</td>\n",
       "      <td>4.0</td>\n",
       "      <td>NaN</td>\n",
       "      <td>None</td>\n",
       "      <td>LINESTRING (2346257.484 207574.150, 2346257.96...</td>\n",
       "    </tr>\n",
       "    <tr>\n",
       "      <th>5</th>\n",
       "      <td>124254</td>\n",
       "      <td>{589339496}</td>\n",
       "      <td>secondary</td>\n",
       "      <td>None</td>\n",
       "      <td>None</td>\n",
       "      <td>24173</td>\n",
       "      <td>24203</td>\n",
       "      <td>NaN</td>\n",
       "      <td>35.0</td>\n",
       "      <td>lane</td>\n",
       "      <td>...</td>\n",
       "      <td>None</td>\n",
       "      <td>None</td>\n",
       "      <td>?</td>\n",
       "      <td>?</td>\n",
       "      <td>3</td>\n",
       "      <td>NaN</td>\n",
       "      <td>3.0</td>\n",
       "      <td>NaN</td>\n",
       "      <td>None</td>\n",
       "      <td>LINESTRING (2344038.832 207702.590, 2344038.15...</td>\n",
       "    </tr>\n",
       "    <tr>\n",
       "      <th>6</th>\n",
       "      <td>82412</td>\n",
       "      <td>{126675583}</td>\n",
       "      <td>path</td>\n",
       "      <td>None</td>\n",
       "      <td>None</td>\n",
       "      <td>16108</td>\n",
       "      <td>16104</td>\n",
       "      <td>NaN</td>\n",
       "      <td>NaN</td>\n",
       "      <td>path</td>\n",
       "      <td>...</td>\n",
       "      <td>None</td>\n",
       "      <td>None</td>\n",
       "      <td>?</td>\n",
       "      <td>?</td>\n",
       "      <td>1</td>\n",
       "      <td>NaN</td>\n",
       "      <td>1.0</td>\n",
       "      <td>NaN</td>\n",
       "      <td>None</td>\n",
       "      <td>LINESTRING (2329585.268 207322.496, 2329587.78...</td>\n",
       "    </tr>\n",
       "    <tr>\n",
       "      <th>7</th>\n",
       "      <td>143280</td>\n",
       "      <td>{938580994}</td>\n",
       "      <td>path</td>\n",
       "      <td>None</td>\n",
       "      <td>None</td>\n",
       "      <td>29200</td>\n",
       "      <td>29193</td>\n",
       "      <td>NaN</td>\n",
       "      <td>NaN</td>\n",
       "      <td>path</td>\n",
       "      <td>...</td>\n",
       "      <td>None</td>\n",
       "      <td>None</td>\n",
       "      <td>?</td>\n",
       "      <td>?</td>\n",
       "      <td>1</td>\n",
       "      <td>NaN</td>\n",
       "      <td>1.0</td>\n",
       "      <td>NaN</td>\n",
       "      <td>None</td>\n",
       "      <td>LINESTRING (2330302.575 205741.343, 2330289.51...</td>\n",
       "    </tr>\n",
       "    <tr>\n",
       "      <th>8</th>\n",
       "      <td>41479</td>\n",
       "      <td>{114733156}</td>\n",
       "      <td>tertiary</td>\n",
       "      <td>None</td>\n",
       "      <td>None</td>\n",
       "      <td>30914</td>\n",
       "      <td>30908</td>\n",
       "      <td>NaN</td>\n",
       "      <td>25.0</td>\n",
       "      <td>None</td>\n",
       "      <td>...</td>\n",
       "      <td>None</td>\n",
       "      <td>None</td>\n",
       "      <td>?</td>\n",
       "      <td>?</td>\n",
       "      <td>3</td>\n",
       "      <td>NaN</td>\n",
       "      <td>3.0</td>\n",
       "      <td>NaN</td>\n",
       "      <td>None</td>\n",
       "      <td>LINESTRING (2344893.467 204873.196, 2344892.93...</td>\n",
       "    </tr>\n",
       "    <tr>\n",
       "      <th>9</th>\n",
       "      <td>51600</td>\n",
       "      <td>{164769675}</td>\n",
       "      <td>unclassified</td>\n",
       "      <td>None</td>\n",
       "      <td>None</td>\n",
       "      <td>51574</td>\n",
       "      <td>51575</td>\n",
       "      <td>NaN</td>\n",
       "      <td>NaN</td>\n",
       "      <td>None</td>\n",
       "      <td>...</td>\n",
       "      <td>None</td>\n",
       "      <td>None</td>\n",
       "      <td>?</td>\n",
       "      <td>?</td>\n",
       "      <td>1</td>\n",
       "      <td>NaN</td>\n",
       "      <td>1.0</td>\n",
       "      <td>NaN</td>\n",
       "      <td>None</td>\n",
       "      <td>LINESTRING (2327745.011 213803.301, 2327752.72...</td>\n",
       "    </tr>\n",
       "  </tbody>\n",
       "</table>\n",
       "<p>10 rows × 26 columns</p>\n",
       "</div>"
      ],
      "text/plain": [
       "   ROAD_ID         OSMID    FUNCTIONAL PATH_ID ONE_WAY      u      v  WIDTH  \\\n",
       "0    88122  {1066037743}     secondary    None      ft  59331  59328    NaN   \n",
       "1   107585   {418756522}       primary    None      ft  59689  59688    NaN   \n",
       "2   115163   {425222593}      tertiary    None    None  47991  47992    NaN   \n",
       "3   116453   {396071328}       primary    None    None  25785  25786    NaN   \n",
       "4   125570     {5520964}      tertiary    None    None  24323  24320    NaN   \n",
       "5   124254   {589339496}     secondary    None    None  24173  24203    NaN   \n",
       "6    82412   {126675583}          path    None    None  16108  16104    NaN   \n",
       "7   143280   {938580994}          path    None    None  29200  29193    NaN   \n",
       "8    41479   {114733156}      tertiary    None    None  30914  30908    NaN   \n",
       "9    51600   {164769675}  unclassified    None    None  51574  51575    NaN   \n",
       "\n",
       "   SPEED_LIMI FT_BIKE_IN  ... TF_CROSS_L TWLTL_CROS FT_PARK  TF_PARK  \\\n",
       "0        35.0       None  ...       None       None       ?        ?   \n",
       "1        40.0       None  ...       None       None       ?        ?   \n",
       "2         NaN       None  ...       None       None       ?        ?   \n",
       "3        30.0       None  ...       None       None       ?        ?   \n",
       "4         NaN       None  ...       None       None       ?        ?   \n",
       "5        35.0       lane  ...       None       None       ?        ?   \n",
       "6         NaN       path  ...       None       None       ?        ?   \n",
       "7         NaN       path  ...       None       None       ?        ?   \n",
       "8        25.0       None  ...       None       None       ?        ?   \n",
       "9         NaN       None  ...       None       None       ?        ?   \n",
       "\n",
       "   FT_SEG_STR FT_INT_STR TF_SEG_STR TF_INT_STR XWALK  \\\n",
       "0           4        NaN        NaN        NaN  None   \n",
       "1           4        NaN        NaN        NaN  None   \n",
       "2           4        NaN        4.0        NaN  None   \n",
       "3           4        NaN        4.0        NaN  None   \n",
       "4           4        NaN        4.0        NaN  None   \n",
       "5           3        NaN        3.0        NaN  None   \n",
       "6           1        NaN        1.0        NaN  None   \n",
       "7           1        NaN        1.0        NaN  None   \n",
       "8           3        NaN        3.0        NaN  None   \n",
       "9           1        NaN        1.0        NaN  None   \n",
       "\n",
       "                                            geometry  \n",
       "0  LINESTRING (2336142.326 219941.724, 2336143.15...  \n",
       "1  LINESTRING (2340013.039 219162.377, 2340024.15...  \n",
       "2  LINESTRING (2323929.793 198346.121, 2323920.09...  \n",
       "3  LINESTRING (2337592.693 206789.376, 2337592.94...  \n",
       "4  LINESTRING (2346257.484 207574.150, 2346257.96...  \n",
       "5  LINESTRING (2344038.832 207702.590, 2344038.15...  \n",
       "6  LINESTRING (2329585.268 207322.496, 2329587.78...  \n",
       "7  LINESTRING (2330302.575 205741.343, 2330289.51...  \n",
       "8  LINESTRING (2344893.467 204873.196, 2344892.93...  \n",
       "9  LINESTRING (2327745.011 213803.301, 2327752.72...  \n",
       "\n",
       "[10 rows x 26 columns]"
      ]
     },
     "execution_count": 78,
     "metadata": {},
     "output_type": "execute_result"
    }
   ],
   "source": [
    "lts_seg1=lts_seg.rename(columns={'INTERSECTI':'u','INTERSE_01':'v'})\n",
    "lts_seg1.head(10)"
   ]
  },
  {
   "cell_type": "code",
   "execution_count": 82,
   "id": "74cfd23d",
   "metadata": {},
   "outputs": [
    {
     "data": {
      "text/plain": [
       "(77329, 26)"
      ]
     },
     "execution_count": 82,
     "metadata": {},
     "output_type": "execute_result"
    }
   ],
   "source": [
    "lts_for_seg1=lts_seg1.drop(['TF_SEG_STR'],axis=1)\n",
    "lts_for_seg1['direction']='forward'\n",
    "lts_for_seg1=lts_for_seg1.rename(columns={'FT_SEG_STR':'STRESS'})\n",
    "lts_for_seg1.shape"
   ]
  },
  {
   "cell_type": "code",
   "execution_count": 113,
   "id": "e8d67bef",
   "metadata": {},
   "outputs": [
    {
     "data": {
      "text/plain": [
       "(66891, 26)"
      ]
     },
     "execution_count": 113,
     "metadata": {},
     "output_type": "execute_result"
    }
   ],
   "source": [
    "lts_back_seg1=lts_seg1[lts_seg1['TF_SEG_STR']>0]\n",
    "lts_back_seg1=lts_back_seg1.rename(columns={'TF_SEG_STR':'STRESS'})\n",
    "lts_back_seg1=lts_back_seg1.drop(['FT_SEG_STR'],axis=1)\n",
    "lts_back_seg1['direction']='backward'\n",
    "lts_back_seg1.shape"
   ]
  },
  {
   "cell_type": "code",
   "execution_count": 85,
   "id": "1d5d6fc0",
   "metadata": {},
   "outputs": [],
   "source": [
    "# Now join these two directional links together\n",
    "# lts_seg2=pd.concat([lts_for_seg1,lts_back_seg1],axis=0)\n",
    "# lts_seg2.shape"
   ]
  },
  {
   "cell_type": "code",
   "execution_count": 84,
   "id": "c62e6e89",
   "metadata": {},
   "outputs": [],
   "source": [
    "#lts_seg1.head()"
   ]
  },
  {
   "cell_type": "code",
   "execution_count": 86,
   "id": "40b09058",
   "metadata": {},
   "outputs": [],
   "source": [
    "#lts_seg['length']=lts_seg2.geometry.length\n",
    "#lts_seg2.head(10)"
   ]
  },
  {
   "cell_type": "code",
   "execution_count": 43,
   "id": "10bb24a1",
   "metadata": {},
   "outputs": [],
   "source": [
    "#G = nx.read_shp('F:/Paper-5_1 Bicycle Network Connectivity Measures/pybna/Stress Shape File/neighborhood_ways.shp')"
   ]
  },
  {
   "cell_type": "code",
   "execution_count": 40,
   "id": "710b8ae7",
   "metadata": {},
   "outputs": [],
   "source": [
    "#nx.draw(G)"
   ]
  },
  {
   "cell_type": "code",
   "execution_count": 259,
   "id": "da20fc2b",
   "metadata": {},
   "outputs": [],
   "source": [
    "# Crop with boundary\n",
    "#city_limit=gpd.read_file(\"F:/Paper-5_1 Bicycle Network Connectivity Measures/pybna/city_of_portland_boundary.shp\")\n",
    "#city_limit1=city_limit.to_crs(\"epsg:2838\")\n",
    "#city_limit1"
   ]
  },
  {
   "cell_type": "code",
   "execution_count": 258,
   "id": "ec8d78c2",
   "metadata": {},
   "outputs": [],
   "source": [
    "#city_portland=gpd.clip(seg_lts,city_limit1,keep_geom_type=False)\n",
    "#city_portland.head(10)"
   ]
  },
  {
   "cell_type": "code",
   "execution_count": 253,
   "id": "e8422289",
   "metadata": {},
   "outputs": [
    {
     "data": {
      "text/plain": [
       "(98933, 12)"
      ]
     },
     "execution_count": 253,
     "metadata": {},
     "output_type": "execute_result"
    }
   ],
   "source": [
    "#city_portland.shape"
   ]
  },
  {
   "cell_type": "code",
   "execution_count": 87,
   "id": "d3b4c390",
   "metadata": {},
   "outputs": [],
   "source": [
    "#lts_seg2.crs"
   ]
  },
  {
   "cell_type": "code",
   "execution_count": 88,
   "id": "31a8c83c",
   "metadata": {},
   "outputs": [
    {
     "data": {
      "text/html": [
       "<div>\n",
       "<style scoped>\n",
       "    .dataframe tbody tr th:only-of-type {\n",
       "        vertical-align: middle;\n",
       "    }\n",
       "\n",
       "    .dataframe tbody tr th {\n",
       "        vertical-align: top;\n",
       "    }\n",
       "\n",
       "    .dataframe thead th {\n",
       "        text-align: right;\n",
       "    }\n",
       "</style>\n",
       "<table border=\"1\" class=\"dataframe\">\n",
       "  <thead>\n",
       "    <tr style=\"text-align: right;\">\n",
       "      <th></th>\n",
       "      <th>INT_ID</th>\n",
       "      <th>CONTROL</th>\n",
       "      <th>ISLAND</th>\n",
       "      <th>geometry</th>\n",
       "    </tr>\n",
       "  </thead>\n",
       "  <tbody>\n",
       "    <tr>\n",
       "      <th>61531</th>\n",
       "      <td>61211</td>\n",
       "      <td>signals</td>\n",
       "      <td>?</td>\n",
       "      <td>POINT (2329995.764 221605.269)</td>\n",
       "    </tr>\n",
       "    <tr>\n",
       "      <th>61532</th>\n",
       "      <td>61226</td>\n",
       "      <td>signals</td>\n",
       "      <td>?</td>\n",
       "      <td>POINT (2330568.622 221582.712)</td>\n",
       "    </tr>\n",
       "    <tr>\n",
       "      <th>61533</th>\n",
       "      <td>61328</td>\n",
       "      <td>hawk</td>\n",
       "      <td>?</td>\n",
       "      <td>POINT (2329116.204 222187.080)</td>\n",
       "    </tr>\n",
       "    <tr>\n",
       "      <th>61534</th>\n",
       "      <td>61336</td>\n",
       "      <td>signals</td>\n",
       "      <td>?</td>\n",
       "      <td>POINT (2330590.510 222169.191)</td>\n",
       "    </tr>\n",
       "    <tr>\n",
       "      <th>61535</th>\n",
       "      <td>61372</td>\n",
       "      <td>signals</td>\n",
       "      <td>?</td>\n",
       "      <td>POINT (2329109.711 222038.934)</td>\n",
       "    </tr>\n",
       "  </tbody>\n",
       "</table>\n",
       "</div>"
      ],
      "text/plain": [
       "       INT_ID  CONTROL ISLAND                        geometry\n",
       "61531   61211  signals      ?  POINT (2329995.764 221605.269)\n",
       "61532   61226  signals      ?  POINT (2330568.622 221582.712)\n",
       "61533   61328     hawk      ?  POINT (2329116.204 222187.080)\n",
       "61534   61336  signals      ?  POINT (2330590.510 222169.191)\n",
       "61535   61372  signals      ?  POINT (2329109.711 222038.934)"
      ]
     },
     "execution_count": 88,
     "metadata": {},
     "output_type": "execute_result"
    }
   ],
   "source": [
    "# import the Nodes\n",
    "lts_node=gpd.read_file('F:/Paper-5_1 Bicycle Network Connectivity Measures/pybna/Stress Shape File/neighborhood_ways_intersections.shp')\n",
    "lts_node.tail()"
   ]
  },
  {
   "cell_type": "code",
   "execution_count": 90,
   "id": "9a70b29e",
   "metadata": {},
   "outputs": [
    {
     "data": {
      "text/plain": [
       "(61536, 4)"
      ]
     },
     "execution_count": 90,
     "metadata": {},
     "output_type": "execute_result"
    }
   ],
   "source": [
    "lts_node.shape"
   ]
  },
  {
   "cell_type": "code",
   "execution_count": 91,
   "id": "06ccf434",
   "metadata": {},
   "outputs": [
    {
     "name": "stderr",
     "output_type": "stream",
     "text": [
      "C:\\Users\\mxm5116\\.conda\\envs\\geo_env\\lib\\site-packages\\geopandas\\io\\file.py:362: FutureWarning: pandas.Int64Index is deprecated and will be removed from pandas in a future version. Use pandas.Index with the appropriate dtype instead.\n",
      "  pd.Int64Index,\n"
     ]
    }
   ],
   "source": [
    "# Save the shape file\n",
    "lts_for_seg1.to_file(\"F:/Paper-5_1 Bicycle Network Connectivity Measures/pybna/Stress Shape File/lts_for_seg1.shp\")"
   ]
  },
  {
   "cell_type": "code",
   "execution_count": 92,
   "id": "5e508c47",
   "metadata": {},
   "outputs": [
    {
     "name": "stderr",
     "output_type": "stream",
     "text": [
      "C:\\Users\\mxm5116\\AppData\\Local\\Temp\\ipykernel_12280\\3585806960.py:2: DeprecationWarning: read_shp is deprecated and will be removed in 3.0.See https://networkx.org/documentation/latest/auto_examples/index.html#geospatial.\n",
      "  G_for = nx.read_shp('F:/Paper-5_1 Bicycle Network Connectivity Measures/pybna/Stress Shape File/lts_for_seg1.shp')\n"
     ]
    }
   ],
   "source": [
    "# Convert Graph\n",
    "G_for = nx.read_shp('F:/Paper-5_1 Bicycle Network Connectivity Measures/pybna/Stress Shape File/lts_for_seg1.shp')"
   ]
  },
  {
   "cell_type": "code",
   "execution_count": 139,
   "id": "3e569ca8",
   "metadata": {},
   "outputs": [],
   "source": [
    "#seg_lts=seg_lts.to_crs(\"epsg:4326\")\n",
    "#seg_lts.head()"
   ]
  },
  {
   "cell_type": "code",
   "execution_count": 210,
   "id": "b197b39f",
   "metadata": {},
   "outputs": [],
   "source": [
    "#graph = nx.read_shp(\"F:/Paper-5_1 Bicycle Network Connectivity Measures/pybna/Stress Shape File/seg_lts.shp\")"
   ]
  },
  {
   "cell_type": "code",
   "execution_count": 93,
   "id": "c22365b6",
   "metadata": {},
   "outputs": [],
   "source": [
    "# Create the graph\n",
    "#https://osmnx.readthedocs.io/en/stable/osmnx.html#module-osmnx.stats\n",
    "geoms =[shape(feature['geometry']) for feature in fiona.open(\"F:/Paper-5_1 Bicycle Network Connectivity Measures/pybna/Stress Shape File/lts_for_seg1.shp\")]\n",
    "#res = unary_union(geoms)\n",
    "G_for_11 = nx.Graph()\n",
    "for line in geoms:\n",
    "    for seg_start, seg_end in zip(list(line.coords),list(line.coords)[1:]):\n",
    "        G_for_11.add_edge(seg_start, seg_end) "
   ]
  },
  {
   "cell_type": "code",
   "execution_count": 39,
   "id": "e08331e7",
   "metadata": {},
   "outputs": [
    {
     "name": "stderr",
     "output_type": "stream",
     "text": [
      "C:\\Users\\mxm5116\\AppData\\Local\\Temp\\ipykernel_12280\\1366833010.py:1: DeprecationWarning: read_shp is deprecated and will be removed in 3.0.See https://networkx.org/documentation/latest/auto_examples/index.html#geospatial.\n",
      "  G = nx.read_shp('F:/Paper-5_1 Bicycle Network Connectivity Measures/pybna/Stress Shape File/test.shp')\n"
     ]
    }
   ],
   "source": [
    "#G = nx.read_shp('F:/Paper-5_1 Bicycle Network Connectivity Measures/pybna/Stress Shape File/test.shp')"
   ]
  },
  {
   "cell_type": "code",
   "execution_count": 40,
   "id": "88ed30cb",
   "metadata": {},
   "outputs": [
    {
     "data": {
      "image/png": "[encoded data removed]",
      "text/plain": [
       "<Figure size 432x288 with 1 Axes>"
      ]
     },
     "metadata": {},
     "output_type": "display_data"
    }
   ],
   "source": [
    "#nx.draw(G)"
   ]
  },
  {
   "cell_type": "code",
   "execution_count": null,
   "id": "9c58283a",
   "metadata": {},
   "outputs": [],
   "source": [
    "#nx.draw(G11)"
   ]
  },
  {
   "cell_type": "code",
   "execution_count": 104,
   "id": "e55de4e8",
   "metadata": {},
   "outputs": [],
   "source": [
    " # project graph then calculate its nodes’ convex hull area\n",
    "graph_area_m = lts_node.unary_union.convex_hull.area\n",
    "edge_length_total=lts_for_seg1.geometry.length.sum()"
   ]
  },
  {
   "cell_type": "code",
   "execution_count": 105,
   "id": "d0d28182",
   "metadata": {},
   "outputs": [],
   "source": [
    "street_segment_count=G_for.number_of_edges()\n",
    "n=G_for.number_of_nodes()\n",
    "P=nx.number_connected_components(G11)"
   ]
  },
  {
   "cell_type": "code",
   "execution_count": 106,
   "id": "28caf9a7",
   "metadata": {},
   "outputs": [
    {
     "name": "stdout",
     "output_type": "stream",
     "text": [
      "street_segment_count: 77133\n",
      "n: 61559\n",
      "P: 154\n"
     ]
    }
   ],
   "source": [
    "print('street_segment_count:',street_segment_count)\n",
    "print('n:',n)\n",
    "print('P:',P)"
   ]
  },
  {
   "cell_type": "code",
   "execution_count": 73,
   "id": "63bd0879",
   "metadata": {},
   "outputs": [],
   "source": [
    "#%%time\n",
    "#G1 = ox.graph_from_place('Portland, Oregon, USA', network_type='all',simplify=True)\n",
    "#fig, ax = ox.plot_graph(G1)"
   ]
  },
  {
   "cell_type": "code",
   "execution_count": 74,
   "id": "3dfbbfc7",
   "metadata": {},
   "outputs": [],
   "source": [
    "#%%time\n",
    "# calculate and print basic network stats\n",
    "#stats = ox.basic_stats(G, clean_intersects=True,\n",
    "#circuity_dist='euclidean')\n",
    "#pprint(stats)"
   ]
  },
  {
   "cell_type": "markdown",
   "id": "d3ec1073",
   "metadata": {},
   "source": [
    "### LTS1+LTS2+LTS3+LTS4"
   ]
  },
  {
   "cell_type": "code",
   "execution_count": 107,
   "id": "34e1c26b",
   "metadata": {},
   "outputs": [
    {
     "name": "stdout",
     "output_type": "stream",
     "text": [
      "alpha: 0.12775255253303874\n",
      "beta: 1.2529930635650353\n",
      "gamma: 0.4176688777582239\n",
      "eta: 77.73945440647144\n",
      "GTP: 0.2575667677993195\n"
     ]
    }
   ],
   "source": [
    "# Calculate Alpha, Beta, Gamma,eta and GTP index to evaluate the whole network in forward direction\n",
    "alpha=(street_segment_count-n+P)/(2*n-5)\n",
    "beta=street_segment_count/n\n",
    "gamma=street_segment_count/(3*n-2)\n",
    "eta=edge_length_total/street_segment_count\n",
    "gtp=(street_segment_count-n+P)/((math.sqrt(n)-1)**2)\n",
    "\n",
    "print('alpha:', alpha)\n",
    "print('beta:', beta)\n",
    "print('gamma:', gamma)\n",
    "print('eta:', eta)\n",
    "print('GTP:', gtp)"
   ]
  },
  {
   "cell_type": "code",
   "execution_count": null,
   "id": "000f633f",
   "metadata": {},
   "outputs": [],
   "source": [
    "# fOR BACKWARD DIRECTION"
   ]
  },
  {
   "cell_type": "code",
   "execution_count": 116,
   "id": "13b6e9d9",
   "metadata": {},
   "outputs": [
    {
     "name": "stderr",
     "output_type": "stream",
     "text": [
      "C:\\Users\\mxm5116\\.conda\\envs\\geo_env\\lib\\site-packages\\geopandas\\io\\file.py:362: FutureWarning: pandas.Int64Index is deprecated and will be removed from pandas in a future version. Use pandas.Index with the appropriate dtype instead.\n",
      "  pd.Int64Index,\n",
      "C:\\Users\\mxm5116\\AppData\\Local\\Temp\\ipykernel_12280\\2986969908.py:4: DeprecationWarning: read_shp is deprecated and will be removed in 3.0.See https://networkx.org/documentation/latest/auto_examples/index.html#geospatial.\n",
      "  G_back = nx.read_shp('F:/Paper-5_1 Bicycle Network Connectivity Measures/pybna/Stress Shape File/lts_back_seg1.shp')\n"
     ]
    }
   ],
   "source": [
    "# Save the shape file\n",
    "lts_back_seg1.to_file(\"F:/Paper-5_1 Bicycle Network Connectivity Measures/pybna/Stress Shape File/lts_back_seg1.shp\")\n",
    "# Convert Graph\n",
    "G_back = nx.read_shp('F:/Paper-5_1 Bicycle Network Connectivity Measures/pybna/Stress Shape File/lts_back_seg1.shp')\n",
    "# Create the graph\n",
    "#https://osmnx.readthedocs.io/en/stable/osmnx.html#module-osmnx.stats\n",
    "geoms =[shape(feature['geometry']) for feature in fiona.open(\"F:/Paper-5_1 Bicycle Network Connectivity Measures/pybna/Stress Shape File/lts_back_seg1.shp\")]\n",
    "#res = unary_union(geoms)\n",
    "G_back_11 = nx.Graph()\n",
    "for line in geoms:\n",
    "    for seg_start, seg_end in zip(list(line.coords),list(line.coords)[1:]):\n",
    "        G_back_11.add_edge(seg_start, seg_end) "
   ]
  },
  {
   "cell_type": "code",
   "execution_count": 117,
   "id": "6eefdd4b",
   "metadata": {},
   "outputs": [
    {
     "name": "stdout",
     "output_type": "stream",
     "text": [
      "edge_length_totalb: 5373437.702920833\n",
      "street_segment_countb: 66709\n",
      "nb: 56139\n",
      "Pb: 487\n"
     ]
    }
   ],
   "source": [
    "edge_length_totalb=lts_back_seg1.geometry.length.sum()\n",
    "street_segment_countb=G_back.number_of_edges()\n",
    "nb=G_back.number_of_nodes()\n",
    "Pb=nx.number_connected_components(G_back_11)\n",
    "print('edge_length_totalb:',edge_length_totalb)\n",
    "print('street_segment_countb:',street_segment_countb)\n",
    "print('nb:',nb)\n",
    "print('Pb:',Pb)"
   ]
  },
  {
   "cell_type": "code",
   "execution_count": 118,
   "id": "bef3ad5c",
   "metadata": {},
   "outputs": [
    {
     "name": "stdout",
     "output_type": "stream",
     "text": [
      "alpha: 0.09848316157936458\n",
      "beta: 1.1882826555513992\n",
      "gamma: 0.39609892230502036\n",
      "eta: 80.55041602963367\n",
      "GTP: 0.19863066959219486\n"
     ]
    }
   ],
   "source": [
    "# Calculate Alpha, Beta, Gamma,eta and GTP index to evaluate the whole network in forward direction\n",
    "alpha=(street_segment_countb-nb+Pb)/(2*nb-5)\n",
    "beta=street_segment_countb/nb\n",
    "gamma=street_segment_countb/(3*nb-2)\n",
    "eta=edge_length_totalb/street_segment_countb\n",
    "gtp=(street_segment_countb-nb+Pb)/((math.sqrt(nb)-1)**2)\n",
    "\n",
    "print('alpha:', alpha)\n",
    "print('beta:', beta)\n",
    "print('gamma:', gamma)\n",
    "print('eta:', eta)\n",
    "print('GTP:', gtp)"
   ]
  },
  {
   "cell_type": "markdown",
   "id": "5feebd3d",
   "metadata": {},
   "source": [
    "## LTS1+LTS2+LTS3"
   ]
  },
  {
   "cell_type": "markdown",
   "id": "9fa9ba69",
   "metadata": {},
   "source": [
    "# Forward"
   ]
  },
  {
   "cell_type": "code",
   "execution_count": 152,
   "id": "ade9ff78",
   "metadata": {},
   "outputs": [],
   "source": [
    "city_portlandf_s13=lts_for_seg1[lts_for_seg1['STRESS']<4]\n",
    "city_portlandb_s13=lts_back_seg1[lts_back_seg1['STRESS']<4]"
   ]
  },
  {
   "cell_type": "code",
   "execution_count": 153,
   "id": "1baaabd8",
   "metadata": {},
   "outputs": [
    {
     "name": "stderr",
     "output_type": "stream",
     "text": [
      "C:\\Users\\mxm5116\\.conda\\envs\\geo_env\\lib\\site-packages\\geopandas\\io\\file.py:362: FutureWarning: pandas.Int64Index is deprecated and will be removed from pandas in a future version. Use pandas.Index with the appropriate dtype instead.\n",
      "  pd.Int64Index,\n",
      "C:\\Users\\mxm5116\\AppData\\Local\\Temp\\ipykernel_12280\\1572255461.py:4: DeprecationWarning: read_shp is deprecated and will be removed in 3.0.See https://networkx.org/documentation/latest/auto_examples/index.html#geospatial.\n",
      "  G_for13 = nx.read_shp('F:/Paper-5_1 Bicycle Network Connectivity Measures/pybna/Stress Shape File/lts_1_3_for_seg.shp')\n"
     ]
    }
   ],
   "source": [
    "# Save the shape file\n",
    "city_portlandf_s13.to_file(\"F:/Paper-5_1 Bicycle Network Connectivity Measures/pybna/Stress Shape File/lts_1_3_for_seg.shp\")\n",
    "# Convert Graph\n",
    "G_for13 = nx.read_shp('F:/Paper-5_1 Bicycle Network Connectivity Measures/pybna/Stress Shape File/lts_1_3_for_seg.shp')\n",
    "# Create the graph\n",
    "#https://osmnx.readthedocs.io/en/stable/osmnx.html#module-osmnx.stats\n",
    "geoms =[shape(feature['geometry']) for feature in fiona.open(\"F:/Paper-5_1 Bicycle Network Connectivity Measures/pybna/Stress Shape File/lts_1_3_for_seg.shp\")]\n",
    "#res = unary_union(geoms)\n",
    "G_for_13 = nx.Graph()\n",
    "for line in geoms:\n",
    "    for seg_start, seg_end in zip(list(line.coords),list(line.coords)[1:]):\n",
    "        G_for_13.add_edge(seg_start, seg_end) "
   ]
  },
  {
   "cell_type": "code",
   "execution_count": 154,
   "id": "5476ae08",
   "metadata": {},
   "outputs": [
    {
     "name": "stdout",
     "output_type": "stream",
     "text": [
      "street_segment_count: 64729\n",
      "n: 54667\n",
      "P: 863\n"
     ]
    }
   ],
   "source": [
    "edge_length_total13=city_portlandf_s13.geometry.length.sum()\n",
    "street_segment_count13=G_for13.number_of_edges()\n",
    "n13=G_for13.number_of_nodes()\n",
    "P13=nx.number_connected_components(G_for_13)\n",
    "print('street_segment_count:',street_segment_count13)\n",
    "print('n:',n13)\n",
    "print('P:',P13)"
   ]
  },
  {
   "cell_type": "code",
   "execution_count": 155,
   "id": "34fbd9c5",
   "metadata": {},
   "outputs": [
    {
     "name": "stdout",
     "output_type": "stream",
     "text": [
      "alpha: 0.09992774103851677\n",
      "beta: 1.1840598532935775\n",
      "gamma: 0.39469143104531124\n",
      "eta: 78.83503054615262\n",
      "GTP: 0.20156685063666546\n"
     ]
    }
   ],
   "source": [
    "# Calculate Alpha, Beta, Gamma,eta and GTP index to evaluate the whole network in forward direction\n",
    "alpha=(street_segment_count13-n13+P13)/(2*n13-5)\n",
    "beta=street_segment_count13/n13\n",
    "gamma=street_segment_count13/(3*n13-2)\n",
    "eta=edge_length_total13/street_segment_count13\n",
    "gtp=(street_segment_count13-n13+P13)/((math.sqrt(n13)-1)**2)\n",
    "\n",
    "print('alpha:', alpha)\n",
    "print('beta:', beta)\n",
    "print('gamma:', gamma)\n",
    "print('eta:', eta)\n",
    "print('GTP:', gtp)"
   ]
  },
  {
   "cell_type": "markdown",
   "id": "44067203",
   "metadata": {},
   "source": [
    "# Backward"
   ]
  },
  {
   "cell_type": "code",
   "execution_count": 156,
   "id": "87739568",
   "metadata": {},
   "outputs": [
    {
     "name": "stderr",
     "output_type": "stream",
     "text": [
      "C:\\Users\\mxm5116\\.conda\\envs\\geo_env\\lib\\site-packages\\geopandas\\io\\file.py:362: FutureWarning: pandas.Int64Index is deprecated and will be removed from pandas in a future version. Use pandas.Index with the appropriate dtype instead.\n",
      "  pd.Int64Index,\n",
      "C:\\Users\\mxm5116\\AppData\\Local\\Temp\\ipykernel_12280\\1230826825.py:4: DeprecationWarning: read_shp is deprecated and will be removed in 3.0.See https://networkx.org/documentation/latest/auto_examples/index.html#geospatial.\n",
      "  G_back13 = nx.read_shp('F:/Paper-5_1 Bicycle Network Connectivity Measures/pybna/Stress Shape File/lts_back_seg13.shp')\n"
     ]
    }
   ],
   "source": [
    "# Save the shape file\n",
    "city_portlandb_s13.to_file(\"F:/Paper-5_1 Bicycle Network Connectivity Measures/pybna/Stress Shape File/lts_back_seg13.shp\")\n",
    "# Convert Graph\n",
    "G_back13 = nx.read_shp('F:/Paper-5_1 Bicycle Network Connectivity Measures/pybna/Stress Shape File/lts_back_seg13.shp')\n",
    "# Create the graph\n",
    "#https://osmnx.readthedocs.io/en/stable/osmnx.html#module-osmnx.stats\n",
    "geoms =[shape(feature['geometry']) for feature in fiona.open(\"F:/Paper-5_1 Bicycle Network Connectivity Measures/pybna/Stress Shape File/lts_back_seg13.shp\")]\n",
    "#res = unary_union(geoms)\n",
    "G_back_13 = nx.Graph()\n",
    "for line in geoms:\n",
    "    for seg_start, seg_end in zip(list(line.coords),list(line.coords)[1:]):\n",
    "        G_back_13.add_edge(seg_start, seg_end) "
   ]
  },
  {
   "cell_type": "code",
   "execution_count": 157,
   "id": "c36b199b",
   "metadata": {},
   "outputs": [
    {
     "name": "stdout",
     "output_type": "stream",
     "text": [
      "edge_length_totalb: 4826760.122293784\n",
      "street_segment_countb: 58978\n",
      "nb: 51437\n",
      "Pb: 1185\n"
     ]
    }
   ],
   "source": [
    "edge_length_totalb=city_portlandb_s13.geometry.length.sum()\n",
    "street_segment_countb=G_back13.number_of_edges()\n",
    "nb=G_back13.number_of_nodes()\n",
    "Pb=nx.number_connected_components(G_back_13)\n",
    "print('edge_length_totalb:',edge_length_totalb)\n",
    "print('street_segment_countb:',street_segment_countb)\n",
    "print('nb:',nb)\n",
    "print('Pb:',Pb)"
   ]
  },
  {
   "cell_type": "code",
   "execution_count": 158,
   "id": "89cc09bc",
   "metadata": {},
   "outputs": [
    {
     "name": "stdout",
     "output_type": "stream",
     "text": [
      "alpha: 0.08482633252000117\n",
      "beta: 1.1466065283745164\n",
      "gamma: 0.3822071298498467\n",
      "eta: 81.84001021217716\n",
      "GTP: 0.1711503727464005\n"
     ]
    }
   ],
   "source": [
    "# Calculate Alpha, Beta, Gamma,eta and GTP index to evaluate the whole network in forward direction\n",
    "alpha=(street_segment_countb-nb+Pb)/(2*nb-5)\n",
    "beta=street_segment_countb/nb\n",
    "gamma=street_segment_countb/(3*nb-2)\n",
    "eta=edge_length_totalb/street_segment_countb\n",
    "gtp=(street_segment_countb-nb+Pb)/((math.sqrt(nb)-1)**2)\n",
    "\n",
    "print('alpha:', alpha)\n",
    "print('beta:', beta)\n",
    "print('gamma:', gamma)\n",
    "print('eta:', eta)\n",
    "print('GTP:', gtp)"
   ]
  },
  {
   "cell_type": "markdown",
   "id": "c3703cab",
   "metadata": {},
   "source": [
    "## LTS1+LTS2"
   ]
  },
  {
   "cell_type": "code",
   "execution_count": 159,
   "id": "a5553635",
   "metadata": {},
   "outputs": [],
   "source": [
    "city_portlandf_s12=lts_for_seg1[lts_for_seg1['STRESS']<3]\n",
    "city_portlandb_s12=lts_back_seg1[lts_back_seg1['STRESS']<3]"
   ]
  },
  {
   "cell_type": "markdown",
   "id": "b6cd88a9",
   "metadata": {},
   "source": [
    "## Forward"
   ]
  },
  {
   "cell_type": "code",
   "execution_count": 160,
   "id": "a6e91c04",
   "metadata": {},
   "outputs": [
    {
     "name": "stderr",
     "output_type": "stream",
     "text": [
      "C:\\Users\\mxm5116\\.conda\\envs\\geo_env\\lib\\site-packages\\geopandas\\io\\file.py:362: FutureWarning: pandas.Int64Index is deprecated and will be removed from pandas in a future version. Use pandas.Index with the appropriate dtype instead.\n",
      "  pd.Int64Index,\n",
      "C:\\Users\\mxm5116\\AppData\\Local\\Temp\\ipykernel_12280\\855253064.py:4: DeprecationWarning: read_shp is deprecated and will be removed in 3.0.See https://networkx.org/documentation/latest/auto_examples/index.html#geospatial.\n",
      "  G_for12 = nx.read_shp('F:/Paper-5_1 Bicycle Network Connectivity Measures/pybna/Stress Shape File/lts_1_2_for_seg.shp')\n"
     ]
    }
   ],
   "source": [
    "# Save the shape file\n",
    "city_portlandf_s12.to_file(\"F:/Paper-5_1 Bicycle Network Connectivity Measures/pybna/Stress Shape File/lts_1_2_for_seg.shp\")\n",
    "# Convert Graph\n",
    "G_for12 = nx.read_shp('F:/Paper-5_1 Bicycle Network Connectivity Measures/pybna/Stress Shape File/lts_1_2_for_seg.shp')\n",
    "# Create the graph\n",
    "#https://osmnx.readthedocs.io/en/stable/osmnx.html#module-osmnx.stats\n",
    "geoms =[shape(feature['geometry']) for feature in fiona.open(\"F:/Paper-5_1 Bicycle Network Connectivity Measures/pybna/Stress Shape File/lts_1_2_for_seg.shp\")]\n",
    "#res = unary_union(geoms)\n",
    "G_for_12 = nx.Graph()\n",
    "for line in geoms:\n",
    "    for seg_start, seg_end in zip(list(line.coords),list(line.coords)[1:]):\n",
    "        G_for_12.add_edge(seg_start, seg_end) "
   ]
  },
  {
   "cell_type": "code",
   "execution_count": 161,
   "id": "7969d22a",
   "metadata": {},
   "outputs": [
    {
     "name": "stdout",
     "output_type": "stream",
     "text": [
      "street_segment_count: 52548\n",
      "n: 46997\n",
      "P: 1785\n"
     ]
    }
   ],
   "source": [
    "edge_length_total12=city_portlandf_s12.geometry.length.sum()\n",
    "street_segment_count12=G_for12.number_of_edges()\n",
    "n12=G_for12.number_of_nodes()\n",
    "P12=nx.number_connected_components(G_for_12)\n",
    "print('street_segment_count:',street_segment_count12)\n",
    "print('n:',n12)\n",
    "print('P:',P12)"
   ]
  },
  {
   "cell_type": "code",
   "execution_count": 162,
   "id": "8470d80a",
   "metadata": {},
   "outputs": [
    {
     "name": "stdout",
     "output_type": "stream",
     "text": [
      "alpha: 0.07805168689953079\n",
      "beta: 1.1181139221652445\n",
      "gamma: 0.37270992772485795\n",
      "eta: 83.65277207824751\n",
      "GTP: 0.15754516738254687\n"
     ]
    }
   ],
   "source": [
    "# Calculate Alpha, Beta, Gamma,eta and GTP index to evaluate the whole network in forward direction\n",
    "alpha=(street_segment_count12-n12+P12)/(2*n12-5)\n",
    "beta=street_segment_count12/n12\n",
    "gamma=street_segment_count12/(3*n12-2)\n",
    "eta=edge_length_total12/street_segment_count12\n",
    "gtp=(street_segment_count12-n12+P12)/((math.sqrt(n12)-1)**2)\n",
    "\n",
    "print('alpha:', alpha)\n",
    "print('beta:', beta)\n",
    "print('gamma:', gamma)\n",
    "print('eta:', eta)\n",
    "print('GTP:', gtp)"
   ]
  },
  {
   "cell_type": "markdown",
   "id": "f1c1d264",
   "metadata": {},
   "source": [
    "# Backward"
   ]
  },
  {
   "cell_type": "code",
   "execution_count": 166,
   "id": "76e41b2c",
   "metadata": {},
   "outputs": [
    {
     "name": "stderr",
     "output_type": "stream",
     "text": [
      "C:\\Users\\mxm5116\\.conda\\envs\\geo_env\\lib\\site-packages\\geopandas\\io\\file.py:362: FutureWarning: pandas.Int64Index is deprecated and will be removed from pandas in a future version. Use pandas.Index with the appropriate dtype instead.\n",
      "  pd.Int64Index,\n",
      "C:\\Users\\mxm5116\\AppData\\Local\\Temp\\ipykernel_12280\\4092207477.py:4: DeprecationWarning: read_shp is deprecated and will be removed in 3.0.See https://networkx.org/documentation/latest/auto_examples/index.html#geospatial.\n",
      "  G_back12 = nx.read_shp('F:/Paper-5_1 Bicycle Network Connectivity Measures/pybna/Stress Shape File/lts_back_seg12.shp')\n"
     ]
    }
   ],
   "source": [
    "# Save the shape file\n",
    "city_portlandb_s12.to_file(\"F:/Paper-5_1 Bicycle Network Connectivity Measures/pybna/Stress Shape File/lts_back_seg12.shp\")\n",
    "# Convert Graph\n",
    "G_back12 = nx.read_shp('F:/Paper-5_1 Bicycle Network Connectivity Measures/pybna/Stress Shape File/lts_back_seg12.shp')\n",
    "# Create the graph\n",
    "#https://osmnx.readthedocs.io/en/stable/osmnx.html#module-osmnx.stats\n",
    "geoms =[shape(feature['geometry']) for feature in fiona.open(\"F:/Paper-5_1 Bicycle Network Connectivity Measures/pybna/Stress Shape File/lts_back_seg12.shp\")]\n",
    "#res = unary_union(geoms)\n",
    "G_back_12 = nx.Graph()\n",
    "for line in geoms:\n",
    "    for seg_start, seg_end in zip(list(line.coords),list(line.coords)[1:]):\n",
    "        G_back_12.add_edge(seg_start, seg_end) "
   ]
  },
  {
   "cell_type": "code",
   "execution_count": 167,
   "id": "a6789ebe",
   "metadata": {},
   "outputs": [
    {
     "name": "stdout",
     "output_type": "stream",
     "text": [
      "street_segment_count: 50160\n",
      "n: 45631\n",
      "P: 1927\n"
     ]
    }
   ],
   "source": [
    "edge_length_total12=city_portlandb_s12.geometry.length.sum()\n",
    "street_segment_count12=G_back12.number_of_edges()\n",
    "n12=G_back12.number_of_nodes()\n",
    "P12=nx.number_connected_components(G_back_12)\n",
    "print('street_segment_count:',street_segment_count12)\n",
    "print('n:',n12)\n",
    "print('P:',P12)"
   ]
  },
  {
   "cell_type": "code",
   "execution_count": 169,
   "id": "e4e58af9",
   "metadata": {},
   "outputs": [
    {
     "name": "stdout",
     "output_type": "stream",
     "text": [
      "alpha: 0.07074525789802426\n",
      "beta: 1.099252701014661\n",
      "gamma: 0.3664229204257402\n",
      "eta: 85.58795403050866\n",
      "GTP: 0.14281678136654535\n"
     ]
    }
   ],
   "source": [
    "# Calculate Alpha, Beta, Gamma,eta and GTP index to evaluate the whole network in forward direction\n",
    "alpha=(street_segment_count12-n12+P12)/(2*n12-5)\n",
    "beta=street_segment_count12/n12\n",
    "gamma=street_segment_count12/(3*n12-2)\n",
    "eta=edge_length_total12/street_segment_count12\n",
    "gtp=(street_segment_count12-n12+P12)/((math.sqrt(n12)-1)**2)\n",
    "\n",
    "print('alpha:', alpha)\n",
    "print('beta:', beta)\n",
    "print('gamma:', gamma)\n",
    "print('eta:', eta)\n",
    "print('GTP:', gtp)"
   ]
  },
  {
   "cell_type": "markdown",
   "id": "4b0cf7e2",
   "metadata": {},
   "source": [
    "### LTS1"
   ]
  },
  {
   "cell_type": "code",
   "execution_count": 171,
   "id": "caadf919",
   "metadata": {},
   "outputs": [],
   "source": [
    "city_portlandf_s1=lts_for_seg1[lts_for_seg1['STRESS']<2]\n",
    "city_portlandb_s1=lts_back_seg1[lts_back_seg1['STRESS']<2]"
   ]
  },
  {
   "cell_type": "code",
   "execution_count": null,
   "id": "7f1033b9",
   "metadata": {},
   "outputs": [],
   "source": [
    "##https://trenton3983.github.io/files/projects/2020-05-21_intro_to_network_analysis_in_python/2020-05-21_intro_to_network_analysis_in_python.html"
   ]
  },
  {
   "cell_type": "markdown",
   "id": "765306d5",
   "metadata": {},
   "source": [
    "# Forward"
   ]
  },
  {
   "cell_type": "code",
   "execution_count": 172,
   "id": "2e439afc",
   "metadata": {},
   "outputs": [
    {
     "name": "stderr",
     "output_type": "stream",
     "text": [
      "C:\\Users\\mxm5116\\.conda\\envs\\geo_env\\lib\\site-packages\\geopandas\\io\\file.py:362: FutureWarning: pandas.Int64Index is deprecated and will be removed from pandas in a future version. Use pandas.Index with the appropriate dtype instead.\n",
      "  pd.Int64Index,\n",
      "C:\\Users\\mxm5116\\AppData\\Local\\Temp\\ipykernel_12280\\2451993654.py:4: DeprecationWarning: read_shp is deprecated and will be removed in 3.0.See https://networkx.org/documentation/latest/auto_examples/index.html#geospatial.\n",
      "  G_for1 = nx.read_shp('F:/Paper-5_1 Bicycle Network Connectivity Measures/pybna/Stress Shape File/lts_1_for_seg.shp')\n"
     ]
    }
   ],
   "source": [
    "# Save the shape file\n",
    "city_portlandf_s1.to_file(\"F:/Paper-5_1 Bicycle Network Connectivity Measures/pybna/Stress Shape File/lts_1_for_seg.shp\")\n",
    "# Convert Graph\n",
    "G_for1 = nx.read_shp('F:/Paper-5_1 Bicycle Network Connectivity Measures/pybna/Stress Shape File/lts_1_for_seg.shp')\n",
    "# Create the graph\n",
    "#https://osmnx.readthedocs.io/en/stable/osmnx.html#module-osmnx.stats\n",
    "geoms =[shape(feature['geometry']) for feature in fiona.open(\"F:/Paper-5_1 Bicycle Network Connectivity Measures/pybna/Stress Shape File/lts_1_for_seg.shp\")]\n",
    "#res = unary_union(geoms)\n",
    "G_for_1 = nx.Graph()\n",
    "for line in geoms:\n",
    "    for seg_start, seg_end in zip(list(line.coords),list(line.coords)[1:]):\n",
    "        G_for_1.add_edge(seg_start, seg_end) "
   ]
  },
  {
   "cell_type": "code",
   "execution_count": 173,
   "id": "4a82f9ff",
   "metadata": {},
   "outputs": [
    {
     "name": "stdout",
     "output_type": "stream",
     "text": [
      "street_segment_count: 48933\n",
      "n: 44771\n",
      "P: 2013\n"
     ]
    }
   ],
   "source": [
    "edge_length_total1=city_portlandf_s1.geometry.length.sum()\n",
    "street_segment_count1=G_for1.number_of_edges()\n",
    "n1=G_for1.number_of_nodes()\n",
    "P1=nx.number_connected_components(G_for_1)\n",
    "print('street_segment_count:',street_segment_count1)\n",
    "print('n:',n1)\n",
    "print('P:',P1)"
   ]
  },
  {
   "cell_type": "code",
   "execution_count": 174,
   "id": "d78db0b9",
   "metadata": {},
   "outputs": [
    {
     "name": "stdout",
     "output_type": "stream",
     "text": [
      "alpha: 0.06896590236438567\n",
      "beta: 1.0929619619843203\n",
      "gamma: 0.3643260790255452\n",
      "eta: 86.19898074281343\n",
      "GTP: 0.139237085499525\n"
     ]
    }
   ],
   "source": [
    "# Calculate Alpha, Beta, Gamma,eta and GTP index to evaluate the whole network in forward direction\n",
    "alpha=(street_segment_count1-n1+P1)/(2*n1-5)\n",
    "beta=street_segment_count1/n1\n",
    "gamma=street_segment_count1/(3*n1-2)\n",
    "eta=edge_length_total1/street_segment_count1\n",
    "gtp=(street_segment_count1-n1+P1)/((math.sqrt(n1)-1)**2)\n",
    "\n",
    "print('alpha:', alpha)\n",
    "print('beta:', beta)\n",
    "print('gamma:', gamma)\n",
    "print('eta:', eta)\n",
    "print('GTP:', gtp)"
   ]
  },
  {
   "cell_type": "markdown",
   "id": "72a51d98",
   "metadata": {},
   "source": [
    "# Backward"
   ]
  },
  {
   "cell_type": "code",
   "execution_count": 175,
   "id": "260ba962",
   "metadata": {},
   "outputs": [
    {
     "name": "stderr",
     "output_type": "stream",
     "text": [
      "C:\\Users\\mxm5116\\.conda\\envs\\geo_env\\lib\\site-packages\\geopandas\\io\\file.py:362: FutureWarning: pandas.Int64Index is deprecated and will be removed from pandas in a future version. Use pandas.Index with the appropriate dtype instead.\n",
      "  pd.Int64Index,\n",
      "C:\\Users\\mxm5116\\AppData\\Local\\Temp\\ipykernel_12280\\978461262.py:4: DeprecationWarning: read_shp is deprecated and will be removed in 3.0.See https://networkx.org/documentation/latest/auto_examples/index.html#geospatial.\n",
      "  G_back1 = nx.read_shp('F:/Paper-5_1 Bicycle Network Connectivity Measures/pybna/Stress Shape File/lts_back_seg1.shp')\n"
     ]
    }
   ],
   "source": [
    "# Save the shape file\n",
    "city_portlandb_s1.to_file(\"F:/Paper-5_1 Bicycle Network Connectivity Measures/pybna/Stress Shape File/lts_back_seg1.shp\")\n",
    "# Convert Graph\n",
    "G_back1 = nx.read_shp('F:/Paper-5_1 Bicycle Network Connectivity Measures/pybna/Stress Shape File/lts_back_seg1.shp')\n",
    "# Create the graph\n",
    "#https://osmnx.readthedocs.io/en/stable/osmnx.html#module-osmnx.stats\n",
    "geoms =[shape(feature['geometry']) for feature in fiona.open(\"F:/Paper-5_1 Bicycle Network Connectivity Measures/pybna/Stress Shape File/lts_back_seg1.shp\")]\n",
    "#res = unary_union(geoms)\n",
    "G_back_1 = nx.Graph()\n",
    "for line in geoms:\n",
    "    for seg_start, seg_end in zip(list(line.coords),list(line.coords)[1:]):\n",
    "        G_back_1.add_edge(seg_start, seg_end) "
   ]
  },
  {
   "cell_type": "code",
   "execution_count": 176,
   "id": "e373dcb2",
   "metadata": {},
   "outputs": [
    {
     "name": "stdout",
     "output_type": "stream",
     "text": [
      "street_segment_count: 47766\n",
      "n: 44084\n",
      "P: 2106\n"
     ]
    }
   ],
   "source": [
    "edge_length_total1=city_portlandb_s1.geometry.length.sum()\n",
    "street_segment_count1=G_back1.number_of_edges()\n",
    "n1=G_back1.number_of_nodes()\n",
    "P1=nx.number_connected_components(G_back_1)\n",
    "print('street_segment_count:',street_segment_count1)\n",
    "print('n:',n1)\n",
    "print('P:',P1)"
   ]
  },
  {
   "cell_type": "code",
   "execution_count": 177,
   "id": "a55c65c2",
   "metadata": {},
   "outputs": [
    {
     "name": "stdout",
     "output_type": "stream",
     "text": [
      "alpha: 0.06565112348717717\n",
      "beta: 1.0835223663914346\n",
      "gamma: 0.361179584120983\n",
      "eta: 87.16049461810643\n",
      "GTP: 0.13255444634598423\n"
     ]
    }
   ],
   "source": [
    "# Calculate Alpha, Beta, Gamma,eta and GTP index to evaluate the whole network in backward direction\n",
    "alpha=(street_segment_count1-n1+P1)/(2*n1-5)\n",
    "beta=street_segment_count1/n1\n",
    "gamma=street_segment_count1/(3*n1-2)\n",
    "eta=edge_length_total1/street_segment_count1\n",
    "gtp=(street_segment_count1-n1+P1)/((math.sqrt(n1)-1)**2)\n",
    "\n",
    "print('alpha:', alpha)\n",
    "print('beta:', beta)\n",
    "print('gamma:', gamma)\n",
    "print('eta:', eta)\n",
    "print('GTP:', gtp)"
   ]
  },
  {
   "cell_type": "markdown",
   "id": "ff0859e3",
   "metadata": {},
   "source": [
    "# Calculate the Individual subnetwork\n",
    "## LTS2"
   ]
  },
  {
   "cell_type": "code",
   "execution_count": 179,
   "id": "9f9b41bb",
   "metadata": {},
   "outputs": [],
   "source": [
    "city_portlandf_s22=lts_for_seg1[lts_for_seg1['STRESS']==2]\n",
    "city_portlandb_s22=lts_back_seg1[lts_back_seg1['STRESS']==2]"
   ]
  },
  {
   "cell_type": "code",
   "execution_count": 194,
   "id": "a472bdc9",
   "metadata": {},
   "outputs": [
    {
     "name": "stderr",
     "output_type": "stream",
     "text": [
      "C:\\Users\\mxm5116\\.conda\\envs\\geo_env\\lib\\site-packages\\geopandas\\io\\file.py:362: FutureWarning: pandas.Int64Index is deprecated and will be removed from pandas in a future version. Use pandas.Index with the appropriate dtype instead.\n",
      "  pd.Int64Index,\n",
      "C:\\Users\\mxm5116\\AppData\\Local\\Temp\\ipykernel_12280\\4278177304.py:4: DeprecationWarning: read_shp is deprecated and will be removed in 3.0.See https://networkx.org/documentation/latest/auto_examples/index.html#geospatial.\n",
      "  G_22 = nx.read_shp('F:/Paper-5_1 Bicycle Network Connectivity Measures/pybna/Stress Shape File/lts_22_for_seg.shp')\n"
     ]
    }
   ],
   "source": [
    "# Save the shape file\n",
    "city_portlandf_s22.to_file(\"F:/Paper-5_1 Bicycle Network Connectivity Measures/pybna/Stress Shape File/lts_22_for_seg.shp\")\n",
    "# Create the graph\n",
    "G_22 = nx.read_shp('F:/Paper-5_1 Bicycle Network Connectivity Measures/pybna/Stress Shape File/lts_22_for_seg.shp')\n",
    "#https://osmnx.readthedocs.io/en/stable/osmnx.html#module-osmnx.stats\n",
    "geoms =[shape(feature['geometry']) for feature in fiona.open(\"F:/Paper-5_1 Bicycle Network Connectivity Measures/pybna/Stress Shape File/lts_22_for_seg.shp\")]\n",
    "#res = unary_union(geoms)\n",
    "G_for_22 = nx.Graph()\n",
    "for line in geoms:\n",
    "    for seg_start, seg_end in zip(list(line.coords),list(line.coords)[1:]):\n",
    "        G_for_22.add_edge(seg_start, seg_end) "
   ]
  },
  {
   "cell_type": "code",
   "execution_count": 181,
   "id": "738b19d6",
   "metadata": {},
   "outputs": [
    {
     "data": {
      "text/plain": [
       "289"
      ]
     },
     "execution_count": 181,
     "metadata": {},
     "output_type": "execute_result"
    }
   ],
   "source": [
    "P2f=nx.number_connected_components(G_for_22)\n",
    "P2f"
   ]
  },
  {
   "cell_type": "code",
   "execution_count": 197,
   "id": "5245e9fd",
   "metadata": {},
   "outputs": [
    {
     "data": {
      "text/plain": [
       "3813"
      ]
     },
     "execution_count": 197,
     "metadata": {},
     "output_type": "execute_result"
    }
   ],
   "source": [
    "n1=G_22.number_of_nodes()\n",
    "n1"
   ]
  },
  {
   "cell_type": "code",
   "execution_count": 182,
   "id": "2dda83db",
   "metadata": {},
   "outputs": [
    {
     "name": "stderr",
     "output_type": "stream",
     "text": [
      "C:\\Users\\mxm5116\\.conda\\envs\\geo_env\\lib\\site-packages\\geopandas\\io\\file.py:362: FutureWarning: pandas.Int64Index is deprecated and will be removed from pandas in a future version. Use pandas.Index with the appropriate dtype instead.\n",
      "  pd.Int64Index,\n"
     ]
    }
   ],
   "source": [
    "# Save the shape file\n",
    "city_portlandb_s22.to_file(\"F:/Paper-5_1 Bicycle Network Connectivity Measures/pybna/Stress Shape File/lts_back_seg22.shp\")\n",
    "# Create the graph\n",
    "#https://osmnx.readthedocs.io/en/stable/osmnx.html#module-osmnx.stats\n",
    "geoms =[shape(feature['geometry']) for feature in fiona.open(\"F:/Paper-5_1 Bicycle Network Connectivity Measures/pybna/Stress Shape File/lts_back_seg22.shp\")]\n",
    "#res = unary_union(geoms)\n",
    "G_back_22 = nx.Graph()\n",
    "for line in geoms:\n",
    "    for seg_start, seg_end in zip(list(line.coords),list(line.coords)[1:]):\n",
    "        G_back_22.add_edge(seg_start, seg_end) "
   ]
  },
  {
   "cell_type": "code",
   "execution_count": 183,
   "id": "d18c6a2d",
   "metadata": {},
   "outputs": [
    {
     "data": {
      "text/plain": [
       "197"
      ]
     },
     "execution_count": 183,
     "metadata": {},
     "output_type": "execute_result"
    }
   ],
   "source": [
    "P2b=nx.number_connected_components(G_back_22)\n",
    "P2b"
   ]
  },
  {
   "cell_type": "markdown",
   "id": "623d4e69",
   "metadata": {},
   "source": [
    "## LTS3"
   ]
  },
  {
   "cell_type": "code",
   "execution_count": 184,
   "id": "031f5ce6",
   "metadata": {},
   "outputs": [],
   "source": [
    "city_portlandf_s33=lts_for_seg1[lts_for_seg1['STRESS']==3]\n",
    "city_portlandb_s33=lts_back_seg1[lts_back_seg1['STRESS']==3]"
   ]
  },
  {
   "cell_type": "code",
   "execution_count": 198,
   "id": "f805963c",
   "metadata": {},
   "outputs": [
    {
     "name": "stderr",
     "output_type": "stream",
     "text": [
      "C:\\Users\\mxm5116\\.conda\\envs\\geo_env\\lib\\site-packages\\geopandas\\io\\file.py:362: FutureWarning: pandas.Int64Index is deprecated and will be removed from pandas in a future version. Use pandas.Index with the appropriate dtype instead.\n",
      "  pd.Int64Index,\n",
      "C:\\Users\\mxm5116\\AppData\\Local\\Temp\\ipykernel_12280\\1859045151.py:4: DeprecationWarning: read_shp is deprecated and will be removed in 3.0.See https://networkx.org/documentation/latest/auto_examples/index.html#geospatial.\n",
      "  G_33 = nx.read_shp('F:/Paper-5_1 Bicycle Network Connectivity Measures/pybna/Stress Shape File/lts_33_for_seg.shp')\n"
     ]
    }
   ],
   "source": [
    "# Save the shape file\n",
    "city_portlandf_s33.to_file(\"F:/Paper-5_1 Bicycle Network Connectivity Measures/pybna/Stress Shape File/lts_33_for_seg.shp\")\n",
    "# Create the graph\n",
    "G_33 = nx.read_shp('F:/Paper-5_1 Bicycle Network Connectivity Measures/pybna/Stress Shape File/lts_33_for_seg.shp')\n",
    "#https://osmnx.readthedocs.io/en/stable/osmnx.html#module-osmnx.stats\n",
    "geoms =[shape(feature['geometry']) for feature in fiona.open(\"F:/Paper-5_1 Bicycle Network Connectivity Measures/pybna/Stress Shape File/lts_33_for_seg.shp\")]\n",
    "#res = unary_union(geoms)\n",
    "G_for_33 = nx.Graph()\n",
    "for line in geoms:\n",
    "    for seg_start, seg_end in zip(list(line.coords),list(line.coords)[1:]):\n",
    "        G_for_33.add_edge(seg_start, seg_end) "
   ]
  },
  {
   "cell_type": "code",
   "execution_count": 186,
   "id": "f1d7b54b",
   "metadata": {},
   "outputs": [
    {
     "data": {
      "text/plain": [
       "364"
      ]
     },
     "execution_count": 186,
     "metadata": {},
     "output_type": "execute_result"
    }
   ],
   "source": [
    "P3f=nx.number_connected_components(G_for_33)\n",
    "P3f"
   ]
  },
  {
   "cell_type": "code",
   "execution_count": 199,
   "id": "f1e2c65c",
   "metadata": {},
   "outputs": [
    {
     "data": {
      "text/plain": [
       "12253"
      ]
     },
     "execution_count": 199,
     "metadata": {},
     "output_type": "execute_result"
    }
   ],
   "source": [
    "n1=G_33.number_of_nodes()\n",
    "n1"
   ]
  },
  {
   "cell_type": "code",
   "execution_count": 187,
   "id": "41b3f206",
   "metadata": {},
   "outputs": [
    {
     "name": "stderr",
     "output_type": "stream",
     "text": [
      "C:\\Users\\mxm5116\\.conda\\envs\\geo_env\\lib\\site-packages\\geopandas\\io\\file.py:362: FutureWarning: pandas.Int64Index is deprecated and will be removed from pandas in a future version. Use pandas.Index with the appropriate dtype instead.\n",
      "  pd.Int64Index,\n"
     ]
    }
   ],
   "source": [
    "# Save the shape file\n",
    "city_portlandb_s33.to_file(\"F:/Paper-5_1 Bicycle Network Connectivity Measures/pybna/Stress Shape File/lts_back_seg33.shp\")\n",
    "# Create the graph\n",
    "#https://osmnx.readthedocs.io/en/stable/osmnx.html#module-osmnx.stats\n",
    "geoms =[shape(feature['geometry']) for feature in fiona.open(\"F:/Paper-5_1 Bicycle Network Connectivity Measures/pybna/Stress Shape File/lts_back_seg33.shp\")]\n",
    "#res = unary_union(geoms)\n",
    "G_back_33 = nx.Graph()\n",
    "for line in geoms:\n",
    "    for seg_start, seg_end in zip(list(line.coords),list(line.coords)[1:]):\n",
    "        G_back_33.add_edge(seg_start, seg_end) "
   ]
  },
  {
   "cell_type": "code",
   "execution_count": 188,
   "id": "94df129f",
   "metadata": {},
   "outputs": [
    {
     "data": {
      "text/plain": [
       "462"
      ]
     },
     "execution_count": 188,
     "metadata": {},
     "output_type": "execute_result"
    }
   ],
   "source": [
    "P3b=nx.number_connected_components(G_back_33)\n",
    "P3b"
   ]
  },
  {
   "cell_type": "markdown",
   "id": "a96677f7",
   "metadata": {},
   "source": [
    "## LTS4"
   ]
  },
  {
   "cell_type": "code",
   "execution_count": 189,
   "id": "c326a846",
   "metadata": {},
   "outputs": [],
   "source": [
    "city_portlandf_s44=lts_for_seg1[lts_for_seg1['STRESS']==4]\n",
    "city_portlandb_s44=lts_back_seg1[lts_back_seg1['STRESS']==4]"
   ]
  },
  {
   "cell_type": "code",
   "execution_count": 246,
   "id": "30dc117b",
   "metadata": {},
   "outputs": [],
   "source": [
    "G_sw1 =momepy.gdf_to_nx(city_portlandf_s44, approach='primal')"
   ]
  },
  {
   "cell_type": "code",
   "execution_count": 247,
   "id": "20c87994",
   "metadata": {},
   "outputs": [
    {
     "data": {
      "text/plain": [
       "376"
      ]
     },
     "execution_count": 247,
     "metadata": {},
     "output_type": "execute_result"
    }
   ],
   "source": [
    "P4f=nx.number_connected_components(G_sw1)\n",
    "P4f"
   ]
  },
  {
   "cell_type": "code",
   "execution_count": 200,
   "id": "1f692b4d",
   "metadata": {},
   "outputs": [
    {
     "name": "stderr",
     "output_type": "stream",
     "text": [
      "C:\\Users\\mxm5116\\.conda\\envs\\geo_env\\lib\\site-packages\\geopandas\\io\\file.py:362: FutureWarning: pandas.Int64Index is deprecated and will be removed from pandas in a future version. Use pandas.Index with the appropriate dtype instead.\n",
      "  pd.Int64Index,\n",
      "C:\\Users\\mxm5116\\AppData\\Local\\Temp\\ipykernel_12280\\2301987688.py:4: DeprecationWarning: read_shp is deprecated and will be removed in 3.0.See https://networkx.org/documentation/latest/auto_examples/index.html#geospatial.\n",
      "  G_44 = nx.read_shp('F:/Paper-5_1 Bicycle Network Connectivity Measures/pybna/Stress Shape File/lts_44_for_seg.shp')\n"
     ]
    }
   ],
   "source": [
    "# Save the shape file\n",
    "city_portlandf_s44.to_file(\"F:/Paper-5_1 Bicycle Network Connectivity Measures/pybna/Stress Shape File/lts_44_for_seg.shp\")\n",
    "# Create the graph\n",
    "G_44 = nx.read_shp('F:/Paper-5_1 Bicycle Network Connectivity Measures/pybna/Stress Shape File/lts_44_for_seg.shp')\n",
    "#https://osmnx.readthedocs.io/en/stable/osmnx.html#module-osmnx.stats\n",
    "geoms =[shape(feature['geometry']) for feature in fiona.open(\"F:/Paper-5_1 Bicycle Network Connectivity Measures/pybna/Stress Shape File/lts_44_for_seg.shp\")]\n",
    "#res = unary_union(geoms)\n",
    "G_for_44 = nx.Graph()\n",
    "for line in geoms:\n",
    "    for seg_start, seg_end in zip(list(line.coords),list(line.coords)[1:]):\n",
    "        G_for_44.add_edge(seg_start, seg_end) "
   ]
  },
  {
   "cell_type": "code",
   "execution_count": 191,
   "id": "0401be72",
   "metadata": {},
   "outputs": [
    {
     "data": {
      "text/plain": [
       "376"
      ]
     },
     "execution_count": 191,
     "metadata": {},
     "output_type": "execute_result"
    }
   ],
   "source": [
    "P4f=nx.number_connected_components(G_for_44)\n",
    "P4f"
   ]
  },
  {
   "cell_type": "code",
   "execution_count": 201,
   "id": "fd8aa716",
   "metadata": {},
   "outputs": [
    {
     "data": {
      "text/plain": [
       "12229"
      ]
     },
     "execution_count": 201,
     "metadata": {},
     "output_type": "execute_result"
    }
   ],
   "source": [
    "n1=G_44.number_of_nodes()\n",
    "n1"
   ]
  },
  {
   "cell_type": "code",
   "execution_count": 192,
   "id": "bac6a816",
   "metadata": {},
   "outputs": [
    {
     "name": "stderr",
     "output_type": "stream",
     "text": [
      "C:\\Users\\mxm5116\\.conda\\envs\\geo_env\\lib\\site-packages\\geopandas\\io\\file.py:362: FutureWarning: pandas.Int64Index is deprecated and will be removed from pandas in a future version. Use pandas.Index with the appropriate dtype instead.\n",
      "  pd.Int64Index,\n"
     ]
    }
   ],
   "source": [
    "# Save the shape file\n",
    "city_portlandb_s44.to_file(\"F:/Paper-5_1 Bicycle Network Connectivity Measures/pybna/Stress Shape File/lts_back_seg44.shp\")\n",
    "# Create the graph\n",
    "#https://osmnx.readthedocs.io/en/stable/osmnx.html#module-osmnx.stats\n",
    "geoms =[shape(feature['geometry']) for feature in fiona.open(\"F:/Paper-5_1 Bicycle Network Connectivity Measures/pybna/Stress Shape File/lts_back_seg44.shp\")]\n",
    "#res = unary_union(geoms)\n",
    "G_back_44 = nx.Graph()\n",
    "for line in geoms:\n",
    "    for seg_start, seg_end in zip(list(line.coords),list(line.coords)[1:]):\n",
    "        G_back_44.add_edge(seg_start, seg_end) "
   ]
  },
  {
   "cell_type": "code",
   "execution_count": 193,
   "id": "31080937",
   "metadata": {},
   "outputs": [
    {
     "data": {
      "text/plain": [
       "400"
      ]
     },
     "execution_count": 193,
     "metadata": {},
     "output_type": "execute_result"
    }
   ],
   "source": [
    "P4b=nx.number_connected_components(G_back_44)\n",
    "P4b"
   ]
  },
  {
   "cell_type": "code",
   "execution_count": 203,
   "id": "e39aba7c",
   "metadata": {},
   "outputs": [
    {
     "data": {
      "text/html": [
       "<div>\n",
       "<style scoped>\n",
       "    .dataframe tbody tr th:only-of-type {\n",
       "        vertical-align: middle;\n",
       "    }\n",
       "\n",
       "    .dataframe tbody tr th {\n",
       "        vertical-align: top;\n",
       "    }\n",
       "\n",
       "    .dataframe thead th {\n",
       "        text-align: right;\n",
       "    }\n",
       "</style>\n",
       "<table border=\"1\" class=\"dataframe\">\n",
       "  <thead>\n",
       "    <tr style=\"text-align: right;\">\n",
       "      <th></th>\n",
       "      <th>stop_id</th>\n",
       "      <th>stop_name</th>\n",
       "      <th>jurisdic</th>\n",
       "      <th>zipcode</th>\n",
       "      <th>type</th>\n",
       "      <th>geometry</th>\n",
       "    </tr>\n",
       "  </thead>\n",
       "  <tbody>\n",
       "    <tr>\n",
       "      <th>0</th>\n",
       "      <td>5080</td>\n",
       "      <td>NE Sandy &amp; 33rd</td>\n",
       "      <td>Portland</td>\n",
       "      <td>97232</td>\n",
       "      <td>BUS</td>\n",
       "      <td>POINT (7656219.282 687206.571)</td>\n",
       "    </tr>\n",
       "    <tr>\n",
       "      <th>1</th>\n",
       "      <td>5091</td>\n",
       "      <td>NE Sandy &amp; 44th</td>\n",
       "      <td>Portland</td>\n",
       "      <td>97213</td>\n",
       "      <td>BUS</td>\n",
       "      <td>POINT (7659558.637 689007.622)</td>\n",
       "    </tr>\n",
       "    <tr>\n",
       "      <th>2</th>\n",
       "      <td>5093</td>\n",
       "      <td>NE Sandy &amp; 47th</td>\n",
       "      <td>Portland</td>\n",
       "      <td>97213</td>\n",
       "      <td>BUS</td>\n",
       "      <td>POINT (7660290.189 689528.325)</td>\n",
       "    </tr>\n",
       "    <tr>\n",
       "      <th>3</th>\n",
       "      <td>5097</td>\n",
       "      <td>NE Sandy &amp; 50th</td>\n",
       "      <td>Portland</td>\n",
       "      <td>97213</td>\n",
       "      <td>BUS</td>\n",
       "      <td>POINT (7661149.852 689860.630)</td>\n",
       "    </tr>\n",
       "    <tr>\n",
       "      <th>4</th>\n",
       "      <td>5100</td>\n",
       "      <td>NE Sandy &amp; 52nd</td>\n",
       "      <td>Portland</td>\n",
       "      <td>97213</td>\n",
       "      <td>BUS</td>\n",
       "      <td>POINT (7661428.783 690056.605)</td>\n",
       "    </tr>\n",
       "  </tbody>\n",
       "</table>\n",
       "</div>"
      ],
      "text/plain": [
       "   stop_id        stop_name  jurisdic zipcode type  \\\n",
       "0     5080  NE Sandy & 33rd  Portland   97232  BUS   \n",
       "1     5091  NE Sandy & 44th  Portland   97213  BUS   \n",
       "2     5093  NE Sandy & 47th  Portland   97213  BUS   \n",
       "3     5097  NE Sandy & 50th  Portland   97213  BUS   \n",
       "4     5100  NE Sandy & 52nd  Portland   97213  BUS   \n",
       "\n",
       "                         geometry  \n",
       "0  POINT (7656219.282 687206.571)  \n",
       "1  POINT (7659558.637 689007.622)  \n",
       "2  POINT (7660290.189 689528.325)  \n",
       "3  POINT (7661149.852 689860.630)  \n",
       "4  POINT (7661428.783 690056.605)  "
      ]
     },
     "execution_count": 203,
     "metadata": {},
     "output_type": "execute_result"
    }
   ],
   "source": [
    "# Modify Transit Stops file\n",
    "br=gpd.read_file(\"F:/Paper-5_1 Bicycle Network Connectivity Measures/pybna/Stress Shape File/tm_stops/tm_stops.shp\")\n",
    "br.head()"
   ]
  },
  {
   "cell_type": "code",
   "execution_count": 204,
   "id": "b2c6b766",
   "metadata": {},
   "outputs": [
    {
     "data": {
      "text/html": [
       "<div>\n",
       "<style scoped>\n",
       "    .dataframe tbody tr th:only-of-type {\n",
       "        vertical-align: middle;\n",
       "    }\n",
       "\n",
       "    .dataframe tbody tr th {\n",
       "        vertical-align: top;\n",
       "    }\n",
       "\n",
       "    .dataframe thead th {\n",
       "        text-align: right;\n",
       "    }\n",
       "</style>\n",
       "<table border=\"1\" class=\"dataframe\">\n",
       "  <thead>\n",
       "    <tr style=\"text-align: right;\">\n",
       "      <th></th>\n",
       "      <th>name</th>\n",
       "      <th>address</th>\n",
       "      <th>city</th>\n",
       "      <th>county</th>\n",
       "      <th>zipcode</th>\n",
       "      <th>status</th>\n",
       "      <th>geometry</th>\n",
       "    </tr>\n",
       "  </thead>\n",
       "  <tbody>\n",
       "    <tr>\n",
       "      <th>0</th>\n",
       "      <td>Barbur Blvd Transit Center</td>\n",
       "      <td>9750 SW Barbur Blvd</td>\n",
       "      <td>Portland</td>\n",
       "      <td>Multnomah</td>\n",
       "      <td>97219</td>\n",
       "      <td>Existing</td>\n",
       "      <td>POINT (7633099.750 659577.728)</td>\n",
       "    </tr>\n",
       "    <tr>\n",
       "      <th>1</th>\n",
       "      <td>Beaverton Transit Center</td>\n",
       "      <td>4050 SW Lombard Ave</td>\n",
       "      <td>Beaverton</td>\n",
       "      <td>Washington</td>\n",
       "      <td>97005</td>\n",
       "      <td>Existing</td>\n",
       "      <td>POINT (7612071.860 673539.411)</td>\n",
       "    </tr>\n",
       "    <tr>\n",
       "      <th>2</th>\n",
       "      <td>Clackamas Town Center Transit Center</td>\n",
       "      <td>9225 SE Sunnyside Rd</td>\n",
       "      <td>Clackamas</td>\n",
       "      <td>Clackamas</td>\n",
       "      <td>97015</td>\n",
       "      <td>Existing</td>\n",
       "      <td>POINT (7671235.494 651735.026)</td>\n",
       "    </tr>\n",
       "    <tr>\n",
       "      <th>3</th>\n",
       "      <td>Gateway/NE 99th Ave Transit Center</td>\n",
       "      <td>9900 NE Multnomah</td>\n",
       "      <td>Portland</td>\n",
       "      <td>Multnomah</td>\n",
       "      <td>97220</td>\n",
       "      <td>Existing</td>\n",
       "      <td>POINT (7673365.971 686219.290)</td>\n",
       "    </tr>\n",
       "    <tr>\n",
       "      <th>4</th>\n",
       "      <td>Gresham Central Transit Center</td>\n",
       "      <td>350 NE 8th</td>\n",
       "      <td>Gresham</td>\n",
       "      <td>Multnomah</td>\n",
       "      <td>97030</td>\n",
       "      <td>Existing</td>\n",
       "      <td>POINT (7708126.403 675311.144)</td>\n",
       "    </tr>\n",
       "  </tbody>\n",
       "</table>\n",
       "</div>"
      ],
      "text/plain": [
       "                                   name               address       city  \\\n",
       "0            Barbur Blvd Transit Center   9750 SW Barbur Blvd   Portland   \n",
       "1              Beaverton Transit Center   4050 SW Lombard Ave  Beaverton   \n",
       "2  Clackamas Town Center Transit Center  9225 SE Sunnyside Rd  Clackamas   \n",
       "3    Gateway/NE 99th Ave Transit Center     9900 NE Multnomah   Portland   \n",
       "4        Gresham Central Transit Center            350 NE 8th    Gresham   \n",
       "\n",
       "       county zipcode    status                        geometry  \n",
       "0   Multnomah   97219  Existing  POINT (7633099.750 659577.728)  \n",
       "1  Washington   97005  Existing  POINT (7612071.860 673539.411)  \n",
       "2   Clackamas   97015  Existing  POINT (7671235.494 651735.026)  \n",
       "3   Multnomah   97220  Existing  POINT (7673365.971 686219.290)  \n",
       "4   Multnomah   97030  Existing  POINT (7708126.403 675311.144)  "
      ]
     },
     "execution_count": 204,
     "metadata": {},
     "output_type": "execute_result"
    }
   ],
   "source": [
    "ts=gpd.read_file(\"F:/Paper-5_1 Bicycle Network Connectivity Measures/pybna/Stress Shape File/tm_tran_cen/tm_tran_cen.shp\")\n",
    "ts.head()"
   ]
  },
  {
   "cell_type": "code",
   "execution_count": 209,
   "id": "82805309",
   "metadata": {},
   "outputs": [
    {
     "data": {
      "text/plain": [
       "<AxesSubplot:>"
      ]
     },
     "execution_count": 209,
     "metadata": {},
     "output_type": "execute_result"
    },
    {
     "data": {
      "image/png": "[encoded data removed]",
      "text/plain": [
       "<Figure size 432x288 with 1 Axes>"
      ]
     },
     "metadata": {
      "needs_background": "light"
     },
     "output_type": "display_data"
    },
    {
     "data": {
      "image/png": "[encoded data removed]",
      "text/plain": [
       "<Figure size 432x288 with 1 Axes>"
      ]
     },
     "metadata": {
      "needs_background": "light"
     },
     "output_type": "display_data"
    }
   ],
   "source": [
    "# Generate extendent Biundary shape file\n",
    "bd=gpd.read_file('F:/Paper-5_1 Bicycle Network Connectivity Measures/pybna/Stress Shape File/neighborhood_boundary.shp')\n",
    "ext_bd=bd.geometry.buffer(2414.02)\n",
    "bd.plot()\n",
    "ext_bd.plot()\n"
   ]
  },
  {
   "cell_type": "code",
   "execution_count": 210,
   "id": "6452f020",
   "metadata": {},
   "outputs": [
    {
     "name": "stderr",
     "output_type": "stream",
     "text": [
      "C:\\Users\\mxm5116\\.conda\\envs\\geo_env\\lib\\site-packages\\geopandas\\io\\file.py:362: FutureWarning: pandas.Int64Index is deprecated and will be removed from pandas in a future version. Use pandas.Index with the appropriate dtype instead.\n",
      "  pd.Int64Index,\n"
     ]
    }
   ],
   "source": [
    "ext_bd.to_file(\"Extendent_Portland_Boundary.shp\")"
   ]
  },
  {
   "cell_type": "markdown",
   "id": "9fa5a6e5",
   "metadata": {},
   "source": [
    "# Calculate subnetwork properties for South Waterfront"
   ]
  },
  {
   "cell_type": "markdown",
   "id": "f07fc2e9",
   "metadata": {},
   "source": [
    "## LTS1-LTS4"
   ]
  },
  {
   "cell_type": "code",
   "execution_count": 320,
   "id": "75b9acbc",
   "metadata": {},
   "outputs": [
    {
     "data": {
      "text/plain": [
       "<AxesSubplot:>"
      ]
     },
     "execution_count": 320,
     "metadata": {},
     "output_type": "execute_result"
    },
    {
     "data": {
      "image/png": "[encoded data removed]",
      "text/plain": [
       "<Figure size 432x288 with 1 Axes>"
      ]
     },
     "metadata": {
      "needs_background": "light"
     },
     "output_type": "display_data"
    }
   ],
   "source": [
    "sw_bdy=gpd.read_file(\"F:/Paper-5_1 Bicycle Network Connectivity Measures/pybna/Stress Shape File/LTS Catchment Analysis/South Waterfront.shp\")\n",
    "sw_bdy=sw_bdy.to_crs(\"epsg:2838\")\n",
    "sw_bdy.plot()"
   ]
  },
  {
   "cell_type": "code",
   "execution_count": 321,
   "id": "6b6c933b",
   "metadata": {},
   "outputs": [
    {
     "data": {
      "text/plain": [
       "<Derived Projected CRS: EPSG:2838>\n",
       "Name: NAD83(HARN) / Oregon North\n",
       "Axis Info [cartesian]:\n",
       "- X[east]: Easting (metre)\n",
       "- Y[north]: Northing (metre)\n",
       "Area of Use:\n",
       "- name: United States (USA) - Oregon - counties of Baker; Benton; Clackamas; Clatsop; Columbia; Gilliam; Grant; Hood River; Jefferson; Lincoln; Linn; Marion; Morrow; Multnomah; Polk; Sherman; Tillamook; Umatilla; Union; Wallowa; Wasco; Washington; Wheeler; Yamhill.\n",
       "- bounds: (-124.17, 43.95, -116.47, 46.26)\n",
       "Coordinate Operation:\n",
       "- name: SPCS83 Oregon North zone (meters)\n",
       "- method: Lambert Conic Conformal (2SP)\n",
       "Datum: NAD83 (High Accuracy Reference Network)\n",
       "- Ellipsoid: GRS 1980\n",
       "- Prime Meridian: Greenwich"
      ]
     },
     "execution_count": 321,
     "metadata": {},
     "output_type": "execute_result"
    }
   ],
   "source": [
    "cn=gpd.read_file('F:/Paper-5_1 Bicycle Network Connectivity Measures/pybna/seg_lts.shp')\n",
    "cn.crs"
   ]
  },
  {
   "cell_type": "code",
   "execution_count": 322,
   "id": "acb32de9",
   "metadata": {},
   "outputs": [
    {
     "data": {
      "text/plain": [
       "(8719, 12)"
      ]
     },
     "execution_count": 322,
     "metadata": {},
     "output_type": "execute_result"
    }
   ],
   "source": [
    "sw_net=gpd.clip(cn, sw_bdy,keep_geom_type=False)\n",
    "sw_net.shape"
   ]
  },
  {
   "cell_type": "code",
   "execution_count": 327,
   "id": "f3aec455",
   "metadata": {},
   "outputs": [
    {
     "name": "stderr",
     "output_type": "stream",
     "text": [
      "C:\\Users\\mxm5116\\AppData\\Local\\Temp\\ipykernel_12280\\1642561664.py:3: FutureWarning: Currently, index_parts defaults to True, but in the future, it will default to False to be consistent with Pandas. Use `index_parts=True` to keep the current behavior and True/False to silence the warning.\n",
      "  sw_net14=gpd.GeoDataFrame.explode(sw_net14)\n"
     ]
    }
   ],
   "source": [
    "# Create the graph\n",
    "sw_net14=sw_net[sw_net['direction']=='v']\n",
    "sw_net14=gpd.GeoDataFrame.explode(sw_net14)\n",
    "G_sw14 =momepy.gdf_to_nx(sw_net14, approach='primal')"
   ]
  },
  {
   "cell_type": "code",
   "execution_count": 324,
   "id": "85051d7a",
   "metadata": {},
   "outputs": [
    {
     "data": {
      "image/png": "[encoded data removed]",
      "text/plain": [
       "<Figure size 1296x720 with 3 Axes>"
      ]
     },
     "metadata": {},
     "output_type": "display_data"
    }
   ],
   "source": [
    "f, ax = plt.subplots(1, 3, figsize=(18, 10), sharex=True, sharey=True)\n",
    "sw_net14.plot(color='#e32e00', ax=ax[0])\n",
    "for i, facet in enumerate(ax):\n",
    "    facet.set_title((\"Streets\", \"Primal graph\", \"Overlay\")[i])\n",
    "    facet.axis(\"off\")\n",
    "nx.draw(G_sw14, {n:[n[0], n[1]] for n in list(G_sw14.nodes)}, ax=ax[1], node_size=15)\n",
    "sw_net14.plot(color='#e32e00', ax=ax[2], zorder=-1)\n",
    "nx.draw(G_sw14, {n:[n[0], n[1]] for n in list(G_sw14.nodes)}, ax=ax[2], node_size=15)"
   ]
  },
  {
   "cell_type": "code",
   "execution_count": 328,
   "id": "08027989",
   "metadata": {},
   "outputs": [
    {
     "name": "stdout",
     "output_type": "stream",
     "text": [
      "street_segment_count: 3148\n",
      "n: 3015\n",
      "sn: 144\n"
     ]
    }
   ],
   "source": [
    "edge_length_total1=sw_net14.geometry.length.sum()\n",
    "street_segment_count1=G_sw14.number_of_edges()\n",
    "n1=G_sw14.number_of_nodes()\n",
    "sn=nx.number_connected_components(G_sw14)\n",
    "print('street_segment_count:',street_segment_count1)\n",
    "print('n:',n1)\n",
    "print('sn:',sn)"
   ]
  },
  {
   "cell_type": "code",
   "execution_count": 329,
   "id": "0d04980f",
   "metadata": {},
   "outputs": [
    {
     "name": "stdout",
     "output_type": "stream",
     "text": [
      "alpha: 0.04597510373443983\n",
      "beta: 1.0441127694859038\n",
      "gamma: 0.3481145637509676\n",
      "eta: 50.30466594605983\n",
      "GTP: 0.09531405912772642\n"
     ]
    }
   ],
   "source": [
    "# Calculate Alpha, Beta, Gamma,eta and GTP index to evaluate the whole network in backward direction\n",
    "alpha=(street_segment_count1-n1+sn)/(2*n1-5)\n",
    "beta=street_segment_count1/n1\n",
    "gamma=street_segment_count1/(3*n1-2)\n",
    "eta=edge_length_total1/street_segment_count1\n",
    "gtp=(street_segment_count1-n1+sn)/((math.sqrt(n1)-1)**2)\n",
    "\n",
    "print('alpha:', alpha)\n",
    "print('beta:', beta)\n",
    "print('gamma:', gamma)\n",
    "print('eta:', eta)\n",
    "print('GTP:', gtp)"
   ]
  },
  {
   "cell_type": "markdown",
   "id": "1b1669ba",
   "metadata": {},
   "source": [
    "# LTS1-LTS3"
   ]
  },
  {
   "cell_type": "code",
   "execution_count": 334,
   "id": "78e01d54",
   "metadata": {},
   "outputs": [
    {
     "data": {
      "text/plain": [
       "(2910, 12)"
      ]
     },
     "execution_count": 334,
     "metadata": {},
     "output_type": "execute_result"
    }
   ],
   "source": [
    "sw_net13=sw_net[sw_net['STRESS']<4]\n",
    "sw_net13=sw_net13[sw_net13['direction']=='v']\n",
    "sw_net13.shape"
   ]
  },
  {
   "cell_type": "code",
   "execution_count": 335,
   "id": "1353ef88",
   "metadata": {},
   "outputs": [
    {
     "name": "stderr",
     "output_type": "stream",
     "text": [
      "C:\\Users\\mxm5116\\AppData\\Local\\Temp\\ipykernel_12280\\3279304074.py:2: FutureWarning: Currently, index_parts defaults to True, but in the future, it will default to False to be consistent with Pandas. Use `index_parts=True` to keep the current behavior and True/False to silence the warning.\n",
      "  sw_net13=gpd.GeoDataFrame.explode(sw_net13)\n"
     ]
    }
   ],
   "source": [
    "# Create the graph\n",
    "sw_net13=gpd.GeoDataFrame.explode(sw_net13)\n",
    "G_sw13 =momepy.gdf_to_nx(sw_net13, approach='primal')"
   ]
  },
  {
   "cell_type": "code",
   "execution_count": 251,
   "id": "7daf38ad",
   "metadata": {},
   "outputs": [
    {
     "data": {
      "image/png": "[encoded data removed]",
      "text/plain": [
       "<Figure size 1296x720 with 3 Axes>"
      ]
     },
     "metadata": {},
     "output_type": "display_data"
    }
   ],
   "source": [
    "f, ax = plt.subplots(1, 3, figsize=(18, 10), sharex=True, sharey=True)\n",
    "sw_net13.plot(color='#e32e00', ax=ax[0])\n",
    "for i, facet in enumerate(ax):\n",
    "    facet.set_title((\"Streets\", \"Primal graph\", \"Overlay\")[i])\n",
    "    facet.axis(\"off\")\n",
    "nx.draw(G_sw13, {n:[n[0], n[1]] for n in list(G_sw13.nodes)}, ax=ax[1], node_size=15)\n",
    "sw_net13.plot(color='#e32e00', ax=ax[2], zorder=-1)\n",
    "nx.draw(G_sw13, {n:[n[0], n[1]] for n in list(G_sw13.nodes)}, ax=ax[2], node_size=15)"
   ]
  },
  {
   "cell_type": "code",
   "execution_count": 336,
   "id": "c4033da3",
   "metadata": {},
   "outputs": [
    {
     "name": "stdout",
     "output_type": "stream",
     "text": [
      "street_segment_count: 2974\n",
      "n: 2890\n",
      "sn: 160\n"
     ]
    }
   ],
   "source": [
    "edge_length_total1=sw_net13.geometry.length.sum()\n",
    "street_segment_count1=G_sw13.number_of_edges()\n",
    "n1=G_sw13.number_of_nodes()\n",
    "sn=nx.number_connected_components(G_sw13)\n",
    "print('street_segment_count:',street_segment_count1)\n",
    "print('n:',n1)\n",
    "print('sn:',sn)"
   ]
  },
  {
   "cell_type": "code",
   "execution_count": 337,
   "id": "009fa745",
   "metadata": {},
   "outputs": [
    {
     "name": "stdout",
     "output_type": "stream",
     "text": [
      "alpha: 0.042251082251082255\n",
      "beta: 1.0290657439446367\n",
      "gamma: 0.34310106137517304\n",
      "eta: 50.41525233548284\n",
      "GTP: 0.0876599708384996\n"
     ]
    }
   ],
   "source": [
    "# Calculate Alpha, Beta, Gamma,eta and GTP index to evaluate the whole network in backward direction\n",
    "alpha=(street_segment_count1-n1+sn)/(2*n1-5)\n",
    "beta=street_segment_count1/n1\n",
    "gamma=street_segment_count1/(3*n1-2)\n",
    "eta=edge_length_total1/street_segment_count1\n",
    "gtp=(street_segment_count1-n1+sn)/((math.sqrt(n1)-1)**2)\n",
    "\n",
    "print('alpha:', alpha)\n",
    "print('beta:', beta)\n",
    "print('gamma:', gamma)\n",
    "print('eta:', eta)\n",
    "print('GTP:', gtp)"
   ]
  },
  {
   "cell_type": "markdown",
   "id": "665baa44",
   "metadata": {},
   "source": [
    "# LTS1-LTS2"
   ]
  },
  {
   "cell_type": "code",
   "execution_count": 341,
   "id": "def3bf10",
   "metadata": {},
   "outputs": [
    {
     "name": "stderr",
     "output_type": "stream",
     "text": [
      "C:\\Users\\mxm5116\\AppData\\Local\\Temp\\ipykernel_12280\\456890151.py:4: FutureWarning: Currently, index_parts defaults to True, but in the future, it will default to False to be consistent with Pandas. Use `index_parts=True` to keep the current behavior and True/False to silence the warning.\n",
      "  sw_net12=gpd.GeoDataFrame.explode(sw_net12)\n"
     ]
    }
   ],
   "source": [
    "sw_net12=sw_net[sw_net['STRESS']<3]\n",
    "sw_net12=sw_net12[sw_net12['direction']=='v']\n",
    "# Create the graph\n",
    "sw_net12=gpd.GeoDataFrame.explode(sw_net12)\n",
    "G_sw12 =momepy.gdf_to_nx(sw_net12, approach='primal')"
   ]
  },
  {
   "cell_type": "code",
   "execution_count": 342,
   "id": "8424e47b",
   "metadata": {},
   "outputs": [
    {
     "name": "stdout",
     "output_type": "stream",
     "text": [
      "street_segment_count: 2674\n",
      "n: 2687\n",
      "sn: 201\n"
     ]
    }
   ],
   "source": [
    "edge_length_total1=sw_net12.geometry.length.sum()\n",
    "street_segment_count1=G_sw12.number_of_edges()\n",
    "n1=G_sw12.number_of_nodes()\n",
    "sn=nx.number_connected_components(G_sw12)\n",
    "print('street_segment_count:',street_segment_count1)\n",
    "print('n:',n1)\n",
    "print('sn:',sn)"
   ]
  },
  {
   "cell_type": "code",
   "execution_count": 343,
   "id": "887ea821",
   "metadata": {},
   "outputs": [
    {
     "name": "stdout",
     "output_type": "stream",
     "text": [
      "alpha: 0.035015831626001116\n",
      "beta: 0.9951618905842947\n",
      "gamma: 0.3318029532200025\n",
      "eta: 49.367665531997886\n",
      "GTP: 0.07274619972549709\n"
     ]
    }
   ],
   "source": [
    "# Calculate Alpha, Beta, Gamma,eta and GTP index to evaluate the whole network in backward direction\n",
    "alpha=(street_segment_count1-n1+sn)/(2*n1-5)\n",
    "beta=street_segment_count1/n1\n",
    "gamma=street_segment_count1/(3*n1-2)\n",
    "eta=edge_length_total1/street_segment_count1\n",
    "gtp=(street_segment_count1-n1+sn)/((math.sqrt(n1)-1)**2)\n",
    "\n",
    "print('alpha:', alpha)\n",
    "print('beta:', beta)\n",
    "print('gamma:', gamma)\n",
    "print('eta:', eta)\n",
    "print('GTP:', gtp)"
   ]
  },
  {
   "cell_type": "markdown",
   "id": "8c0ca745",
   "metadata": {},
   "source": [
    "# LTS1"
   ]
  },
  {
   "cell_type": "code",
   "execution_count": 347,
   "id": "d265ef9f",
   "metadata": {},
   "outputs": [
    {
     "name": "stderr",
     "output_type": "stream",
     "text": [
      "C:\\Users\\mxm5116\\AppData\\Local\\Temp\\ipykernel_12280\\2905277004.py:4: FutureWarning: Currently, index_parts defaults to True, but in the future, it will default to False to be consistent with Pandas. Use `index_parts=True` to keep the current behavior and True/False to silence the warning.\n",
      "  sw_net1=gpd.GeoDataFrame.explode(sw_net1)\n"
     ]
    }
   ],
   "source": [
    "sw_net1=sw_net[sw_net['STRESS']==1]\n",
    "sw_net1=sw_net1[sw_net1['direction']=='v']\n",
    "# Create the graph\n",
    "sw_net1=gpd.GeoDataFrame.explode(sw_net1)\n",
    "G_sw1 =momepy.gdf_to_nx(sw_net1, approach='primal')"
   ]
  },
  {
   "cell_type": "code",
   "execution_count": 348,
   "id": "6737a87f",
   "metadata": {},
   "outputs": [
    {
     "name": "stdout",
     "output_type": "stream",
     "text": [
      "street_segment_count: 2445\n",
      "n: 2484\n",
      "sn: 202\n"
     ]
    }
   ],
   "source": [
    "edge_length_total1=sw_net1.geometry.length.sum()\n",
    "street_segment_count1=G_sw1.number_of_edges()\n",
    "n1=G_sw1.number_of_nodes()\n",
    "sn=nx.number_connected_components(G_sw1)\n",
    "print('street_segment_count:',street_segment_count1)\n",
    "print('n:',n1)\n",
    "print('sn:',sn)"
   ]
  },
  {
   "cell_type": "code",
   "execution_count": 349,
   "id": "415723bd",
   "metadata": {},
   "outputs": [
    {
     "name": "stdout",
     "output_type": "stream",
     "text": [
      "alpha: 0.032843038484787423\n",
      "beta: 0.9842995169082126\n",
      "gamma: 0.32818791946308723\n",
      "eta: 50.37342755266042\n",
      "GTP: 0.068334632208785\n"
     ]
    }
   ],
   "source": [
    "# Calculate Alpha, Beta, Gamma,eta and GTP index to evaluate the whole network in backward direction\n",
    "alpha=(street_segment_count1-n1+sn)/(2*n1-5)\n",
    "beta=street_segment_count1/n1\n",
    "gamma=street_segment_count1/(3*n1-2)\n",
    "eta=edge_length_total1/street_segment_count1\n",
    "gtp=(street_segment_count1-n1+sn)/((math.sqrt(n1)-1)**2)\n",
    "\n",
    "print('alpha:', alpha)\n",
    "print('beta:', beta)\n",
    "print('gamma:', gamma)\n",
    "print('eta:', eta)\n",
    "print('GTP:', gtp)"
   ]
  },
  {
   "cell_type": "code",
   "execution_count": 311,
   "id": "bc451df0",
   "metadata": {},
   "outputs": [
    {
     "name": "stdout",
     "output_type": "stream",
     "text": [
      "LTS2_Subnetwork: 36\n"
     ]
    },
    {
     "name": "stderr",
     "output_type": "stream",
     "text": [
      "C:\\Users\\mxm5116\\AppData\\Local\\Temp\\ipykernel_12280\\1693248793.py:4: FutureWarning: Currently, index_parts defaults to True, but in the future, it will default to False to be consistent with Pandas. Use `index_parts=True` to keep the current behavior and True/False to silence the warning.\n",
      "  sw_net2=gpd.GeoDataFrame.explode(sw_net2)\n"
     ]
    }
   ],
   "source": [
    "# Claculate individual subnetwork\n",
    "sw_net2=sw_net[sw_net['STRESS']==2]\n",
    "sw_net2=sw_net2[sw_net2['direction']=='v']\n",
    "sw_net2=gpd.GeoDataFrame.explode(sw_net2)\n",
    "G_sw2 =momepy.gdf_to_nx(sw_net2, approach='primal')\n",
    "print('LTS2_Subnetwork:',nx.number_connected_components(G_sw2))"
   ]
  },
  {
   "cell_type": "code",
   "execution_count": 313,
   "id": "1c584f2e",
   "metadata": {},
   "outputs": [
    {
     "name": "stdout",
     "output_type": "stream",
     "text": [
      "LTS3_Subnetwork: 38\n"
     ]
    },
    {
     "name": "stderr",
     "output_type": "stream",
     "text": [
      "C:\\Users\\mxm5116\\AppData\\Local\\Temp\\ipykernel_12280\\3362716919.py:4: FutureWarning: Currently, index_parts defaults to True, but in the future, it will default to False to be consistent with Pandas. Use `index_parts=True` to keep the current behavior and True/False to silence the warning.\n",
      "  sw_net3=gpd.GeoDataFrame.explode(sw_net3)\n"
     ]
    }
   ],
   "source": [
    "# Claculate individual subnetwork\n",
    "sw_net3=sw_net[sw_net['STRESS']==3]\n",
    "sw_net3=sw_net3[sw_net3['direction']=='v']\n",
    "sw_net3=gpd.GeoDataFrame.explode(sw_net3)\n",
    "G_sw3 =momepy.gdf_to_nx(sw_net3, approach='primal')\n",
    "print('LTS3_Subnetwork:',nx.number_connected_components(G_sw3))"
   ]
  },
  {
   "cell_type": "code",
   "execution_count": 315,
   "id": "548edc8a",
   "metadata": {},
   "outputs": [
    {
     "name": "stdout",
     "output_type": "stream",
     "text": [
      "LTS4_Subnetwork: 34\n"
     ]
    },
    {
     "name": "stderr",
     "output_type": "stream",
     "text": [
      "C:\\Users\\mxm5116\\AppData\\Local\\Temp\\ipykernel_12280\\3147699687.py:4: FutureWarning: Currently, index_parts defaults to True, but in the future, it will default to False to be consistent with Pandas. Use `index_parts=True` to keep the current behavior and True/False to silence the warning.\n",
      "  sw_net4=gpd.GeoDataFrame.explode(sw_net4)\n"
     ]
    }
   ],
   "source": [
    "# Claculate individual subnetwork\n",
    "sw_net4=sw_net[sw_net['STRESS']==4]\n",
    "sw_net4=sw_net4[sw_net4['direction']=='v']\n",
    "sw_net4=gpd.GeoDataFrame.explode(sw_net4)\n",
    "G_sw4 =momepy.gdf_to_nx(sw_net4, approach='primal')\n",
    "print('LTS4_Subnetwork:',nx.number_connected_components(G_sw4))"
   ]
  },
  {
   "cell_type": "markdown",
   "id": "3c741b8f",
   "metadata": {},
   "source": [
    "# Calculate subnetwork properties for Hollywood/Northeast 42nd Avenue Transit Center"
   ]
  },
  {
   "cell_type": "code",
   "execution_count": 263,
   "id": "b4836cb4",
   "metadata": {},
   "outputs": [
    {
     "data": {
      "text/plain": [
       "<AxesSubplot:>"
      ]
     },
     "execution_count": 263,
     "metadata": {},
     "output_type": "execute_result"
    },
    {
     "data": {
      "image/png": "[encoded data removed]",
      "text/plain": [
       "<Figure size 432x288 with 1 Axes>"
      ]
     },
     "metadata": {
      "needs_background": "light"
     },
     "output_type": "display_data"
    }
   ],
   "source": [
    "h_bdy=gpd.read_file(\"F:/Paper-5_1 Bicycle Network Connectivity Measures/pybna/Stress Shape File/LTS Catchment Analysis/Hollywood_Northeast 42nd Avenue Transit Center.shp\")\n",
    "h_bdy=h_bdy.to_crs(\"epsg:2838\")\n",
    "h_bdy.plot()"
   ]
  },
  {
   "cell_type": "code",
   "execution_count": 264,
   "id": "b4404429",
   "metadata": {},
   "outputs": [
    {
     "data": {
      "text/plain": [
       "(12325, 12)"
      ]
     },
     "execution_count": 264,
     "metadata": {},
     "output_type": "execute_result"
    }
   ],
   "source": [
    "h_net=gpd.clip(cn, h_bdy,keep_geom_type=False)\n",
    "h_net.shape"
   ]
  },
  {
   "cell_type": "markdown",
   "id": "836f2ffa",
   "metadata": {},
   "source": [
    "## LTS1-LTS4"
   ]
  },
  {
   "cell_type": "code",
   "execution_count": 307,
   "id": "3762c236",
   "metadata": {},
   "outputs": [
    {
     "name": "stderr",
     "output_type": "stream",
     "text": [
      "C:\\Users\\mxm5116\\AppData\\Local\\Temp\\ipykernel_12280\\1586008411.py:3: FutureWarning: Currently, index_parts defaults to True, but in the future, it will default to False to be consistent with Pandas. Use `index_parts=True` to keep the current behavior and True/False to silence the warning.\n",
      "  h_net14=gpd.GeoDataFrame.explode(h_net14)\n"
     ]
    }
   ],
   "source": [
    "# Create the graph\n",
    "h_net14=h_net[h_net['direction']=='v']\n",
    "h_net14=gpd.GeoDataFrame.explode(h_net14)\n",
    "G_h14 =momepy.gdf_to_nx(h_net14, approach='primal')"
   ]
  },
  {
   "cell_type": "code",
   "execution_count": 308,
   "id": "c3894cd6",
   "metadata": {},
   "outputs": [
    {
     "name": "stdout",
     "output_type": "stream",
     "text": [
      "street_segment_count: 5906\n",
      "n: 4506\n",
      "sn: 33\n"
     ]
    }
   ],
   "source": [
    "edge_length_total1=h_net14.geometry.length.sum()\n",
    "street_segment_count1=G_h14.number_of_edges()\n",
    "n1=G_h14.number_of_nodes()\n",
    "sn=nx.number_connected_components(G_h14)\n",
    "print('street_segment_count:',street_segment_count1)\n",
    "print('n:',n1)\n",
    "print('sn:',sn)"
   ]
  },
  {
   "cell_type": "code",
   "execution_count": 309,
   "id": "aeccfca3",
   "metadata": {},
   "outputs": [
    {
     "name": "stdout",
     "output_type": "stream",
     "text": [
      "alpha: 0.15909847896080825\n",
      "beta: 1.3106968486462494\n",
      "gamma: 0.4369635986978396\n",
      "eta: 70.72754860312358\n",
      "GTP: 0.32771165610422043\n"
     ]
    }
   ],
   "source": [
    "# Calculate Alpha, Beta, Gamma,eta and GTP index to evaluate the whole network in backward direction\n",
    "alpha=(street_segment_count1-n1+sn)/(2*n1-5)\n",
    "beta=street_segment_count1/n1\n",
    "gamma=street_segment_count1/(3*n1-2)\n",
    "eta=edge_length_total1/street_segment_count1\n",
    "gtp=(street_segment_count1-n1+sn)/((math.sqrt(n1)-1)**2)\n",
    "\n",
    "print('alpha:', alpha)\n",
    "print('beta:', beta)\n",
    "print('gamma:', gamma)\n",
    "print('eta:', eta)\n",
    "print('GTP:', gtp)"
   ]
  },
  {
   "cell_type": "markdown",
   "id": "ffc418b5",
   "metadata": {},
   "source": [
    "# LTS1-LTS3"
   ]
  },
  {
   "cell_type": "code",
   "execution_count": 301,
   "id": "59713fe0",
   "metadata": {},
   "outputs": [
    {
     "name": "stderr",
     "output_type": "stream",
     "text": [
      "C:\\Users\\mxm5116\\AppData\\Local\\Temp\\ipykernel_12280\\611906124.py:4: FutureWarning: Currently, index_parts defaults to True, but in the future, it will default to False to be consistent with Pandas. Use `index_parts=True` to keep the current behavior and True/False to silence the warning.\n",
      "  h_net13=gpd.GeoDataFrame.explode(h_net13)\n"
     ]
    }
   ],
   "source": [
    "h_net13=h_net[h_net['STRESS']<4]\n",
    "h_net13=h_net13[h_net13['direction']=='v']\n",
    "# Create the graph\n",
    "h_net13=gpd.GeoDataFrame.explode(h_net13)\n",
    "G_h13 =momepy.gdf_to_nx(h_net13, approach='primal')"
   ]
  },
  {
   "cell_type": "code",
   "execution_count": 302,
   "id": "1ce6792a",
   "metadata": {},
   "outputs": [
    {
     "name": "stdout",
     "output_type": "stream",
     "text": [
      "street_segment_count: 5184\n",
      "n: 4176\n",
      "sn: 60\n"
     ]
    }
   ],
   "source": [
    "edge_length_total1=h_net13.geometry.length.sum()\n",
    "street_segment_count1=G_h13.number_of_edges()\n",
    "n1=G_h13.number_of_nodes()\n",
    "sn=nx.number_connected_components(G_h13)\n",
    "print('street_segment_count:',street_segment_count1)\n",
    "print('n:',n1)\n",
    "print('sn:',sn)"
   ]
  },
  {
   "cell_type": "code",
   "execution_count": 303,
   "id": "38435e2c",
   "metadata": {},
   "outputs": [
    {
     "name": "stdout",
     "output_type": "stream",
     "text": [
      "alpha: 0.127950161734755\n",
      "beta: 1.2413793103448276\n",
      "gamma: 0.4138591729203257\n",
      "eta: 73.9643604406726\n",
      "GTP: 0.26384989318148216\n"
     ]
    }
   ],
   "source": [
    "# Calculate Alpha, Beta, Gamma,eta and GTP index to evaluate the whole network in backward direction\n",
    "alpha=(street_segment_count1-n1+sn)/(2*n1-5)\n",
    "beta=street_segment_count1/n1\n",
    "gamma=street_segment_count1/(3*n1-2)\n",
    "eta=edge_length_total1/street_segment_count1\n",
    "gtp=(street_segment_count1-n1+sn)/((math.sqrt(n1)-1)**2)\n",
    "\n",
    "print('alpha:', alpha)\n",
    "print('beta:', beta)\n",
    "print('gamma:', gamma)\n",
    "print('eta:', eta)\n",
    "print('GTP:', gtp)"
   ]
  },
  {
   "cell_type": "markdown",
   "id": "9055b6a3",
   "metadata": {},
   "source": [
    "## LTS1-LTS2"
   ]
  },
  {
   "cell_type": "code",
   "execution_count": 295,
   "id": "1f29e83b",
   "metadata": {},
   "outputs": [
    {
     "name": "stderr",
     "output_type": "stream",
     "text": [
      "C:\\Users\\mxm5116\\AppData\\Local\\Temp\\ipykernel_12280\\1451214405.py:4: FutureWarning: Currently, index_parts defaults to True, but in the future, it will default to False to be consistent with Pandas. Use `index_parts=True` to keep the current behavior and True/False to silence the warning.\n",
      "  h_net12=gpd.GeoDataFrame.explode(h_net12)\n"
     ]
    }
   ],
   "source": [
    "h_net12=h_net[h_net['STRESS']<3]\n",
    "h_net12=h_net12[h_net12['direction']=='v'] # Chage to u for forward\n",
    "# Create the graph\n",
    "h_net12=gpd.GeoDataFrame.explode(h_net12)\n",
    "G_h12 =momepy.gdf_to_nx(h_net12, approach='primal')"
   ]
  },
  {
   "cell_type": "code",
   "execution_count": 296,
   "id": "29ae34dc",
   "metadata": {},
   "outputs": [
    {
     "name": "stdout",
     "output_type": "stream",
     "text": [
      "street_segment_count: 4730\n",
      "n: 3924\n",
      "sn: 74\n"
     ]
    }
   ],
   "source": [
    "edge_length_total1=h_net12.geometry.length.sum()\n",
    "street_segment_count1=G_h12.number_of_edges()\n",
    "n1=G_h12.number_of_nodes()\n",
    "sn=nx.number_connected_components(G_h12)\n",
    "print('street_segment_count:',street_segment_count1)\n",
    "print('n:',n1)\n",
    "print('sn:',sn)"
   ]
  },
  {
   "cell_type": "code",
   "execution_count": 297,
   "id": "db907f8a",
   "metadata": {},
   "outputs": [
    {
     "name": "stdout",
     "output_type": "stream",
     "text": [
      "alpha: 0.11220196353436185\n",
      "beta: 1.2054026503567787\n",
      "gamma: 0.40186915887850466\n",
      "eta: 75.52917992061676\n",
      "GTP: 0.23159623652156522\n"
     ]
    }
   ],
   "source": [
    "# Calculate Alpha, Beta, Gamma,eta and GTP index to evaluate the whole network in backward direction\n",
    "alpha=(street_segment_count1-n1+sn)/(2*n1-5)\n",
    "beta=street_segment_count1/n1\n",
    "gamma=street_segment_count1/(3*n1-2)\n",
    "eta=edge_length_total1/street_segment_count1\n",
    "gtp=(street_segment_count1-n1+sn)/((math.sqrt(n1)-1)**2)\n",
    "\n",
    "print('alpha:', alpha)\n",
    "print('beta:', beta)\n",
    "print('gamma:', gamma)\n",
    "print('eta:', eta)\n",
    "print('GTP:', gtp)"
   ]
  },
  {
   "cell_type": "markdown",
   "id": "4dc537bd",
   "metadata": {},
   "source": [
    "# LTS1"
   ]
  },
  {
   "cell_type": "code",
   "execution_count": 289,
   "id": "8ab4c11f",
   "metadata": {},
   "outputs": [
    {
     "name": "stderr",
     "output_type": "stream",
     "text": [
      "C:\\Users\\mxm5116\\AppData\\Local\\Temp\\ipykernel_12280\\3115896349.py:4: FutureWarning: Currently, index_parts defaults to True, but in the future, it will default to False to be consistent with Pandas. Use `index_parts=True` to keep the current behavior and True/False to silence the warning.\n",
      "  h_net1=gpd.GeoDataFrame.explode(h_net1)\n"
     ]
    }
   ],
   "source": [
    "h_net1=h_net[h_net['STRESS']==1]\n",
    "h_net1=h_net1[h_net1['direction']=='v']\n",
    "# Create the graph\n",
    "h_net1=gpd.GeoDataFrame.explode(h_net1)\n",
    "G_h1 =momepy.gdf_to_nx(h_net1, approach='primal')"
   ]
  },
  {
   "cell_type": "code",
   "execution_count": 290,
   "id": "e130e4b2",
   "metadata": {},
   "outputs": [
    {
     "name": "stdout",
     "output_type": "stream",
     "text": [
      "street_segment_count: 4414\n",
      "n: 3724\n",
      "sn: 92\n"
     ]
    }
   ],
   "source": [
    "edge_length_total1=h_net1.geometry.length.sum()\n",
    "street_segment_count1=G_h1.number_of_edges()\n",
    "n1=G_h1.number_of_nodes()\n",
    "sn=nx.number_connected_components(G_h1)\n",
    "print('street_segment_count:',street_segment_count1)\n",
    "print('n:',n1)\n",
    "print('sn:',sn)"
   ]
  },
  {
   "cell_type": "code",
   "execution_count": 291,
   "id": "207866c5",
   "metadata": {},
   "outputs": [
    {
     "name": "stdout",
     "output_type": "stream",
     "text": [
      "alpha: 0.10506516189708451\n",
      "beta: 1.1852846401718582\n",
      "gamma: 0.39516562220232765\n",
      "eta: 77.6605889172828\n",
      "GTP: 0.2170443164474081\n"
     ]
    }
   ],
   "source": [
    "# Calculate Alpha, Beta, Gamma,eta and GTP index to evaluate the whole network in backward direction\n",
    "alpha=(street_segment_count1-n1+sn)/(2*n1-5)\n",
    "beta=street_segment_count1/n1\n",
    "gamma=street_segment_count1/(3*n1-2)\n",
    "eta=edge_length_total1/street_segment_count1\n",
    "gtp=(street_segment_count1-n1+sn)/((math.sqrt(n1)-1)**2)\n",
    "\n",
    "print('alpha:', alpha)\n",
    "print('beta:', beta)\n",
    "print('gamma:', gamma)\n",
    "print('eta:', eta)\n",
    "print('GTP:', gtp)"
   ]
  },
  {
   "cell_type": "code",
   "execution_count": 355,
   "id": "39da79fb",
   "metadata": {},
   "outputs": [
    {
     "name": "stdout",
     "output_type": "stream",
     "text": [
      "LTS2_Subnetwork: 37\n"
     ]
    },
    {
     "name": "stderr",
     "output_type": "stream",
     "text": [
      "C:\\Users\\mxm5116\\AppData\\Local\\Temp\\ipykernel_12280\\1580816975.py:4: FutureWarning: Currently, index_parts defaults to True, but in the future, it will default to False to be consistent with Pandas. Use `index_parts=True` to keep the current behavior and True/False to silence the warning.\n",
      "  h_net2=gpd.GeoDataFrame.explode(h_net2)\n"
     ]
    }
   ],
   "source": [
    "# Claculate individual subnetwork\n",
    "h_net2=h_net[h_net['STRESS']==2]\n",
    "h_net2=h_net2[h_net2['direction']=='v']\n",
    "h_net2=gpd.GeoDataFrame.explode(h_net2)\n",
    "G_h2 =momepy.gdf_to_nx(h_net2, approach='primal')\n",
    "print('LTS2_Subnetwork:',nx.number_connected_components(G_h2))"
   ]
  },
  {
   "cell_type": "code",
   "execution_count": 357,
   "id": "f1b3bdad",
   "metadata": {},
   "outputs": [
    {
     "name": "stdout",
     "output_type": "stream",
     "text": [
      "LTS3_Subnetwork: 44\n"
     ]
    },
    {
     "name": "stderr",
     "output_type": "stream",
     "text": [
      "C:\\Users\\mxm5116\\AppData\\Local\\Temp\\ipykernel_12280\\1877863577.py:4: FutureWarning: Currently, index_parts defaults to True, but in the future, it will default to False to be consistent with Pandas. Use `index_parts=True` to keep the current behavior and True/False to silence the warning.\n",
      "  h_net3=gpd.GeoDataFrame.explode(h_net3)\n"
     ]
    }
   ],
   "source": [
    "# Claculate individual subnetwork\n",
    "h_net3=h_net[h_net['STRESS']==3]\n",
    "h_net3=h_net3[h_net3['direction']=='v']\n",
    "h_net3=gpd.GeoDataFrame.explode(h_net3)\n",
    "G_h3 =momepy.gdf_to_nx(h_net3, approach='primal')\n",
    "print('LTS3_Subnetwork:',nx.number_connected_components(G_h3))"
   ]
  },
  {
   "cell_type": "code",
   "execution_count": 359,
   "id": "2c7b36b8",
   "metadata": {},
   "outputs": [
    {
     "name": "stdout",
     "output_type": "stream",
     "text": [
      "LTS4_Subnetwork: 35\n"
     ]
    },
    {
     "name": "stderr",
     "output_type": "stream",
     "text": [
      "C:\\Users\\mxm5116\\AppData\\Local\\Temp\\ipykernel_12280\\329713131.py:4: FutureWarning: Currently, index_parts defaults to True, but in the future, it will default to False to be consistent with Pandas. Use `index_parts=True` to keep the current behavior and True/False to silence the warning.\n",
      "  h_net4=gpd.GeoDataFrame.explode(h_net4)\n"
     ]
    }
   ],
   "source": [
    "# Claculate individual subnetwork\n",
    "h_net4=h_net[h_net['STRESS']==4]\n",
    "h_net4=h_net4[h_net4['direction']=='v']\n",
    "h_net4=gpd.GeoDataFrame.explode(h_net4)\n",
    "G_h4 =momepy.gdf_to_nx(h_net4, approach='primal')\n",
    "print('LTS4_Subnetwork:',nx.number_connected_components(G_h4))"
   ]
  },
  {
   "cell_type": "markdown",
   "id": "cb22b966",
   "metadata": {},
   "source": [
    "# Network parameters for Barbur Boulevard Transit Center"
   ]
  },
  {
   "cell_type": "markdown",
   "id": "be54a56c",
   "metadata": {},
   "source": [
    "# LTS1-LTS4"
   ]
  },
  {
   "cell_type": "code",
   "execution_count": 360,
   "id": "85fee98a",
   "metadata": {},
   "outputs": [
    {
     "data": {
      "text/plain": [
       "<AxesSubplot:>"
      ]
     },
     "execution_count": 360,
     "metadata": {},
     "output_type": "execute_result"
    },
    {
     "data": {
      "image/png": "[encoded data removed]",
      "text/plain": [
       "<Figure size 432x288 with 1 Axes>"
      ]
     },
     "metadata": {
      "needs_background": "light"
     },
     "output_type": "display_data"
    }
   ],
   "source": [
    "bb_bdy=gpd.read_file(\"F:/Paper-5_1 Bicycle Network Connectivity Measures/pybna/Stress Shape File/LTS Catchment Analysis/Barbur Boulevard Transit Center.shp\")\n",
    "bb_bdy=bb_bdy.to_crs(\"epsg:2838\")\n",
    "bb_bdy.plot()"
   ]
  },
  {
   "cell_type": "code",
   "execution_count": 361,
   "id": "1de02f55",
   "metadata": {},
   "outputs": [
    {
     "data": {
      "text/plain": [
       "(6220, 12)"
      ]
     },
     "execution_count": 361,
     "metadata": {},
     "output_type": "execute_result"
    }
   ],
   "source": [
    "bb_net=gpd.clip(cn, bb_bdy,keep_geom_type=False)\n",
    "bb_net.shape"
   ]
  },
  {
   "cell_type": "code",
   "execution_count": 365,
   "id": "2b3bb5af",
   "metadata": {},
   "outputs": [
    {
     "name": "stderr",
     "output_type": "stream",
     "text": [
      "C:\\Users\\mxm5116\\AppData\\Local\\Temp\\ipykernel_12280\\1223597526.py:3: FutureWarning: Currently, index_parts defaults to True, but in the future, it will default to False to be consistent with Pandas. Use `index_parts=True` to keep the current behavior and True/False to silence the warning.\n",
      "  bb_net14=gpd.GeoDataFrame.explode(bb_net14)\n"
     ]
    }
   ],
   "source": [
    "# Create the graph\n",
    "bb_net14=bb_net[bb_net['direction']=='v']\n",
    "bb_net14=gpd.GeoDataFrame.explode(bb_net14)\n",
    "G_bb14 =momepy.gdf_to_nx(bb_net14, approach='primal')"
   ]
  },
  {
   "cell_type": "code",
   "execution_count": 366,
   "id": "443bfa5e",
   "metadata": {},
   "outputs": [
    {
     "name": "stdout",
     "output_type": "stream",
     "text": [
      "street_segment_count: 3051\n",
      "n: 2679\n",
      "sn: 17\n"
     ]
    }
   ],
   "source": [
    "edge_length_total1=bb_net14.geometry.length.sum()\n",
    "street_segment_count1=G_bb14.number_of_edges()\n",
    "n1=G_bb14.number_of_nodes()\n",
    "sn=nx.number_connected_components(G_bb14)\n",
    "print('street_segment_count:',street_segment_count1)\n",
    "print('n:',n1)\n",
    "print('sn:',sn)"
   ]
  },
  {
   "cell_type": "code",
   "execution_count": 367,
   "id": "bb125e0a",
   "metadata": {},
   "outputs": [
    {
     "name": "stdout",
     "output_type": "stream",
     "text": [
      "alpha: 0.0726695311040538\n",
      "beta: 1.1388577827547592\n",
      "gamma: 0.37971375233354077\n",
      "eta: 76.59597751044977\n",
      "GTP: 0.1509810731321707\n"
     ]
    }
   ],
   "source": [
    "# Calculate Alpha, Beta, Gamma,eta and GTP index to evaluate the whole network in backward direction\n",
    "alpha=(street_segment_count1-n1+sn)/(2*n1-5)\n",
    "beta=street_segment_count1/n1\n",
    "gamma=street_segment_count1/(3*n1-2)\n",
    "eta=edge_length_total1/street_segment_count1\n",
    "gtp=(street_segment_count1-n1+sn)/((math.sqrt(n1)-1)**2)\n",
    "\n",
    "print('alpha:', alpha)\n",
    "print('beta:', beta)\n",
    "print('gamma:', gamma)\n",
    "print('eta:', eta)\n",
    "print('GTP:', gtp)"
   ]
  },
  {
   "cell_type": "markdown",
   "id": "7810c641",
   "metadata": {},
   "source": [
    "## LTS1-LTS3"
   ]
  },
  {
   "cell_type": "code",
   "execution_count": 372,
   "id": "df85a8e9",
   "metadata": {},
   "outputs": [
    {
     "name": "stderr",
     "output_type": "stream",
     "text": [
      "C:\\Users\\mxm5116\\AppData\\Local\\Temp\\ipykernel_12280\\1645594605.py:4: FutureWarning: Currently, index_parts defaults to True, but in the future, it will default to False to be consistent with Pandas. Use `index_parts=True` to keep the current behavior and True/False to silence the warning.\n",
      "  bb_net13=gpd.GeoDataFrame.explode(bb_net13)\n"
     ]
    }
   ],
   "source": [
    "bb_net13=bb_net[bb_net['STRESS']<4]\n",
    "bb_net13=bb_net13[bb_net13['direction']=='u']\n",
    "# Create the graph\n",
    "bb_net13=gpd.GeoDataFrame.explode(bb_net13)\n",
    "G_bb13 =momepy.gdf_to_nx(bb_net13, approach='primal')"
   ]
  },
  {
   "cell_type": "code",
   "execution_count": 373,
   "id": "b2df85d5",
   "metadata": {},
   "outputs": [
    {
     "name": "stdout",
     "output_type": "stream",
     "text": [
      "street_segment_count: 2911\n",
      "n: 2613\n",
      "sn: 43\n"
     ]
    }
   ],
   "source": [
    "edge_length_total1=bb_net13.geometry.length.sum()\n",
    "street_segment_count1=G_bb13.number_of_edges()\n",
    "n1=G_bb13.number_of_nodes()\n",
    "sn=nx.number_connected_components(G_bb13)\n",
    "print('street_segment_count:',street_segment_count1)\n",
    "print('n:',n1)\n",
    "print('sn:',sn)"
   ]
  },
  {
   "cell_type": "code",
   "execution_count": 374,
   "id": "095d0af2",
   "metadata": {},
   "outputs": [
    {
     "name": "stdout",
     "output_type": "stream",
     "text": [
      "alpha: 0.06531315839877418\n",
      "beta: 1.1140451588212783\n",
      "gamma: 0.3714431542682149\n",
      "eta: 77.57271496218434\n",
      "GTP: 0.13576110948692927\n"
     ]
    }
   ],
   "source": [
    "# Calculate Alpha, Beta, Gamma,eta and GTP index to evaluate the whole network in backward direction\n",
    "alpha=(street_segment_count1-n1+sn)/(2*n1-5)\n",
    "beta=street_segment_count1/n1\n",
    "gamma=street_segment_count1/(3*n1-2)\n",
    "eta=edge_length_total1/street_segment_count1\n",
    "gtp=(street_segment_count1-n1+sn)/((math.sqrt(n1)-1)**2)\n",
    "\n",
    "print('alpha:', alpha)\n",
    "print('beta:', beta)\n",
    "print('gamma:', gamma)\n",
    "print('eta:', eta)\n",
    "print('GTP:', gtp)"
   ]
  },
  {
   "cell_type": "markdown",
   "id": "1d9dc19d",
   "metadata": {},
   "source": [
    "## LTS1-LTS2"
   ]
  },
  {
   "cell_type": "code",
   "execution_count": 378,
   "id": "c260fb9e",
   "metadata": {},
   "outputs": [
    {
     "name": "stderr",
     "output_type": "stream",
     "text": [
      "C:\\Users\\mxm5116\\AppData\\Local\\Temp\\ipykernel_12280\\963206988.py:4: FutureWarning: Currently, index_parts defaults to True, but in the future, it will default to False to be consistent with Pandas. Use `index_parts=True` to keep the current behavior and True/False to silence the warning.\n",
      "  bb_net12=gpd.GeoDataFrame.explode(bb_net12)\n"
     ]
    }
   ],
   "source": [
    "bb_net12=bb_net[bb_net['STRESS']<3]\n",
    "bb_net12=bb_net12[bb_net12['direction']=='u'] # Chage to u for forward\n",
    "# Create the graph\n",
    "bb_net12=gpd.GeoDataFrame.explode(bb_net12)\n",
    "G_bb12 =momepy.gdf_to_nx(bb_net12, approach='primal')"
   ]
  },
  {
   "cell_type": "code",
   "execution_count": 379,
   "id": "7bd68098",
   "metadata": {},
   "outputs": [
    {
     "name": "stdout",
     "output_type": "stream",
     "text": [
      "street_segment_count: 2208\n",
      "n: 2110\n",
      "sn: 112\n"
     ]
    }
   ],
   "source": [
    "edge_length_total1=bb_net12.geometry.length.sum()\n",
    "street_segment_count1=G_bb12.number_of_edges()\n",
    "n1=G_bb12.number_of_nodes()\n",
    "sn=nx.number_connected_components(G_bb12)\n",
    "print('street_segment_count:',street_segment_count1)\n",
    "print('n:',n1)\n",
    "print('sn:',sn)"
   ]
  },
  {
   "cell_type": "code",
   "execution_count": 380,
   "id": "9c8059f4",
   "metadata": {},
   "outputs": [
    {
     "name": "stdout",
     "output_type": "stream",
     "text": [
      "alpha: 0.0498220640569395\n",
      "beta: 1.0464454976303317\n",
      "gamma: 0.34892541087231355\n",
      "eta: 85.55834182764929\n",
      "GTP: 0.1040051631891226\n"
     ]
    }
   ],
   "source": [
    "# Calculate Alpha, Beta, Gamma,eta and GTP index to evaluate the whole network in backward direction\n",
    "alpha=(street_segment_count1-n1+sn)/(2*n1-5)\n",
    "beta=street_segment_count1/n1\n",
    "gamma=street_segment_count1/(3*n1-2)\n",
    "eta=edge_length_total1/street_segment_count1\n",
    "gtp=(street_segment_count1-n1+sn)/((math.sqrt(n1)-1)**2)\n",
    "\n",
    "print('alpha:', alpha)\n",
    "print('beta:', beta)\n",
    "print('gamma:', gamma)\n",
    "print('eta:', eta)\n",
    "print('GTP:', gtp)"
   ]
  },
  {
   "cell_type": "markdown",
   "id": "c84e4015",
   "metadata": {},
   "source": [
    "# LTS1"
   ]
  },
  {
   "cell_type": "code",
   "execution_count": 384,
   "id": "3e736893",
   "metadata": {},
   "outputs": [
    {
     "name": "stderr",
     "output_type": "stream",
     "text": [
      "C:\\Users\\mxm5116\\AppData\\Local\\Temp\\ipykernel_12280\\236494025.py:4: FutureWarning: Currently, index_parts defaults to True, but in the future, it will default to False to be consistent with Pandas. Use `index_parts=True` to keep the current behavior and True/False to silence the warning.\n",
      "  bb_net1=gpd.GeoDataFrame.explode(bb_net1)\n"
     ]
    }
   ],
   "source": [
    "bb_net1=bb_net[bb_net['STRESS']<2]\n",
    "bb_net1=bb_net1[bb_net1['direction']=='v'] # Chage to u for forward\n",
    "# Create the graph\n",
    "bb_net1=gpd.GeoDataFrame.explode(bb_net1)\n",
    "G_bb1 =momepy.gdf_to_nx(bb_net1, approach='primal')"
   ]
  },
  {
   "cell_type": "code",
   "execution_count": 385,
   "id": "6ff84fd3",
   "metadata": {},
   "outputs": [
    {
     "name": "stdout",
     "output_type": "stream",
     "text": [
      "street_segment_count: 2070\n",
      "n: 2018\n",
      "sn: 119\n"
     ]
    }
   ],
   "source": [
    "edge_length_total1=bb_net1.geometry.length.sum()\n",
    "street_segment_count1=G_bb1.number_of_edges()\n",
    "n1=G_bb1.number_of_nodes()\n",
    "sn=nx.number_connected_components(G_bb1)\n",
    "print('street_segment_count:',street_segment_count1)\n",
    "print('n:',n1)\n",
    "print('sn:',sn)"
   ]
  },
  {
   "cell_type": "code",
   "execution_count": 386,
   "id": "c05db370",
   "metadata": {},
   "outputs": [
    {
     "name": "stdout",
     "output_type": "stream",
     "text": [
      "alpha: 0.042421235425452744\n",
      "beta: 1.0257680872150645\n",
      "gamma: 0.34203569068076667\n",
      "eta: 87.82239513771941\n",
      "GTP: 0.08863981319235872\n"
     ]
    }
   ],
   "source": [
    "# Calculate Alpha, Beta, Gamma,eta and GTP index to evaluate the whole network in backward direction\n",
    "alpha=(street_segment_count1-n1+sn)/(2*n1-5)\n",
    "beta=street_segment_count1/n1\n",
    "gamma=street_segment_count1/(3*n1-2)\n",
    "eta=edge_length_total1/street_segment_count1\n",
    "gtp=(street_segment_count1-n1+sn)/((math.sqrt(n1)-1)**2)\n",
    "\n",
    "print('alpha:', alpha)\n",
    "print('beta:', beta)\n",
    "print('gamma:', gamma)\n",
    "print('eta:', eta)\n",
    "print('GTP:', gtp)"
   ]
  },
  {
   "cell_type": "markdown",
   "id": "eb02b9c6",
   "metadata": {},
   "source": [
    "# Individual LTS subnetwork"
   ]
  },
  {
   "cell_type": "code",
   "execution_count": 388,
   "id": "353c49e8",
   "metadata": {},
   "outputs": [
    {
     "name": "stdout",
     "output_type": "stream",
     "text": [
      "LTS2_Subnetwork: 5\n"
     ]
    },
    {
     "name": "stderr",
     "output_type": "stream",
     "text": [
      "C:\\Users\\mxm5116\\AppData\\Local\\Temp\\ipykernel_12280\\3759522347.py:4: FutureWarning: Currently, index_parts defaults to True, but in the future, it will default to False to be consistent with Pandas. Use `index_parts=True` to keep the current behavior and True/False to silence the warning.\n",
      "  bb_net2=gpd.GeoDataFrame.explode(bb_net2)\n"
     ]
    }
   ],
   "source": [
    "# Claculate individual subnetwork\n",
    "bb_net2=bb_net[bb_net['STRESS']==2]\n",
    "bb_net2=bb_net2[bb_net2['direction']=='u']\n",
    "bb_net2=gpd.GeoDataFrame.explode(bb_net2)\n",
    "G_bb2 =momepy.gdf_to_nx(bb_net2, approach='primal')\n",
    "print('LTS2_Subnetwork:',nx.number_connected_components(G_bb2))"
   ]
  },
  {
   "cell_type": "code",
   "execution_count": 391,
   "id": "c7f561d0",
   "metadata": {},
   "outputs": [
    {
     "name": "stdout",
     "output_type": "stream",
     "text": [
      "LTS3_Subnetwork: 34\n"
     ]
    },
    {
     "name": "stderr",
     "output_type": "stream",
     "text": [
      "C:\\Users\\mxm5116\\AppData\\Local\\Temp\\ipykernel_12280\\1508596881.py:4: FutureWarning: Currently, index_parts defaults to True, but in the future, it will default to False to be consistent with Pandas. Use `index_parts=True` to keep the current behavior and True/False to silence the warning.\n",
      "  bb_net3=gpd.GeoDataFrame.explode(bb_net3)\n"
     ]
    }
   ],
   "source": [
    "# Claculate individual subnetwork\n",
    "bb_net3=bb_net[bb_net['STRESS']==3]\n",
    "bb_net3=bb_net3[bb_net3['direction']=='v']\n",
    "bb_net3=gpd.GeoDataFrame.explode(bb_net3)\n",
    "G_bb3 =momepy.gdf_to_nx(bb_net3, approach='primal')\n",
    "print('LTS3_Subnetwork:',nx.number_connected_components(G_bb3))"
   ]
  },
  {
   "cell_type": "code",
   "execution_count": 393,
   "id": "2b7e51dc",
   "metadata": {},
   "outputs": [
    {
     "name": "stdout",
     "output_type": "stream",
     "text": [
      "LTS4_Subnetwork: 35\n"
     ]
    },
    {
     "name": "stderr",
     "output_type": "stream",
     "text": [
      "C:\\Users\\mxm5116\\AppData\\Local\\Temp\\ipykernel_12280\\1431060413.py:4: FutureWarning: Currently, index_parts defaults to True, but in the future, it will default to False to be consistent with Pandas. Use `index_parts=True` to keep the current behavior and True/False to silence the warning.\n",
      "  bb_net4=gpd.GeoDataFrame.explode(bb_net4)\n"
     ]
    }
   ],
   "source": [
    "# Claculate individual subnetwork\n",
    "bb_net4=bb_net[bb_net['STRESS']==4]\n",
    "bb_net4=bb_net4[bb_net4['direction']=='u']\n",
    "bb_net4=gpd.GeoDataFrame.explode(bb_net4)\n",
    "G_bb4 =momepy.gdf_to_nx(bb_net4, approach='primal')\n",
    "print('LTS4_Subnetwork:',nx.number_connected_components(G_bb4))"
   ]
  },
  {
   "cell_type": "code",
   "execution_count": null,
   "id": "6b804fc1",
   "metadata": {},
   "outputs": [],
   "source": [
    "# Portland Network general characteristics"
   ]
  },
  {
   "cell_type": "code",
   "execution_count": 394,
   "id": "4637ffe8",
   "metadata": {},
   "outputs": [
    {
     "data": {
      "text/html": [
       "<div>\n",
       "<style scoped>\n",
       "    .dataframe tbody tr th:only-of-type {\n",
       "        vertical-align: middle;\n",
       "    }\n",
       "\n",
       "    .dataframe tbody tr th {\n",
       "        vertical-align: top;\n",
       "    }\n",
       "\n",
       "    .dataframe thead th {\n",
       "        text-align: right;\n",
       "    }\n",
       "</style>\n",
       "<table border=\"1\" class=\"dataframe\">\n",
       "  <thead>\n",
       "    <tr style=\"text-align: right;\">\n",
       "      <th></th>\n",
       "      <th>ROAD_ID</th>\n",
       "      <th>LANES</th>\n",
       "      <th>MARKED_CEN</th>\n",
       "      <th>SPEED</th>\n",
       "      <th>EFFECTIVE_</th>\n",
       "      <th>PARKING</th>\n",
       "      <th>LOW_PARKIN</th>\n",
       "      <th>PARKING_WI</th>\n",
       "      <th>BIKE_LANE_</th>\n",
       "      <th>STRESS</th>\n",
       "      <th>direction</th>\n",
       "      <th>geometry</th>\n",
       "    </tr>\n",
       "  </thead>\n",
       "  <tbody>\n",
       "    <tr>\n",
       "      <th>0</th>\n",
       "      <td>1956</td>\n",
       "      <td>1.0</td>\n",
       "      <td>T</td>\n",
       "      <td>30.0</td>\n",
       "      <td>10000.0</td>\n",
       "      <td>?</td>\n",
       "      <td>?</td>\n",
       "      <td>NaN</td>\n",
       "      <td>NaN</td>\n",
       "      <td>4</td>\n",
       "      <td>u</td>\n",
       "      <td>LINESTRING (2336111.704 199689.851, 2336081.70...</td>\n",
       "    </tr>\n",
       "    <tr>\n",
       "      <th>1</th>\n",
       "      <td>1958</td>\n",
       "      <td>1.0</td>\n",
       "      <td>T</td>\n",
       "      <td>30.0</td>\n",
       "      <td>10000.0</td>\n",
       "      <td>?</td>\n",
       "      <td>?</td>\n",
       "      <td>NaN</td>\n",
       "      <td>NaN</td>\n",
       "      <td>4</td>\n",
       "      <td>u</td>\n",
       "      <td>LINESTRING (2336193.526 199686.529, 2336111.70...</td>\n",
       "    </tr>\n",
       "    <tr>\n",
       "      <th>2</th>\n",
       "      <td>1963</td>\n",
       "      <td>1.0</td>\n",
       "      <td>T</td>\n",
       "      <td>30.0</td>\n",
       "      <td>10000.0</td>\n",
       "      <td>?</td>\n",
       "      <td>?</td>\n",
       "      <td>NaN</td>\n",
       "      <td>NaN</td>\n",
       "      <td>4</td>\n",
       "      <td>u</td>\n",
       "      <td>LINESTRING (2332427.480 199709.000, 2332415.80...</td>\n",
       "    </tr>\n",
       "    <tr>\n",
       "      <th>3</th>\n",
       "      <td>51331</td>\n",
       "      <td>1.0</td>\n",
       "      <td>T</td>\n",
       "      <td>30.0</td>\n",
       "      <td>10000.0</td>\n",
       "      <td>?</td>\n",
       "      <td>?</td>\n",
       "      <td>NaN</td>\n",
       "      <td>NaN</td>\n",
       "      <td>4</td>\n",
       "      <td>u</td>\n",
       "      <td>LINESTRING (2346655.578 208437.410, 2346657.50...</td>\n",
       "    </tr>\n",
       "    <tr>\n",
       "      <th>4</th>\n",
       "      <td>86104</td>\n",
       "      <td>1.0</td>\n",
       "      <td>T</td>\n",
       "      <td>30.0</td>\n",
       "      <td>10000.0</td>\n",
       "      <td>?</td>\n",
       "      <td>?</td>\n",
       "      <td>NaN</td>\n",
       "      <td>NaN</td>\n",
       "      <td>4</td>\n",
       "      <td>u</td>\n",
       "      <td>LINESTRING (2328613.678 202650.011, 2328613.68...</td>\n",
       "    </tr>\n",
       "  </tbody>\n",
       "</table>\n",
       "</div>"
      ],
      "text/plain": [
       "   ROAD_ID  LANES MARKED_CEN  SPEED  EFFECTIVE_ PARKING LOW_PARKIN  \\\n",
       "0     1956    1.0          T   30.0     10000.0       ?          ?   \n",
       "1     1958    1.0          T   30.0     10000.0       ?          ?   \n",
       "2     1963    1.0          T   30.0     10000.0       ?          ?   \n",
       "3    51331    1.0          T   30.0     10000.0       ?          ?   \n",
       "4    86104    1.0          T   30.0     10000.0       ?          ?   \n",
       "\n",
       "   PARKING_WI  BIKE_LANE_  STRESS direction  \\\n",
       "0         NaN         NaN       4         u   \n",
       "1         NaN         NaN       4         u   \n",
       "2         NaN         NaN       4         u   \n",
       "3         NaN         NaN       4         u   \n",
       "4         NaN         NaN       4         u   \n",
       "\n",
       "                                            geometry  \n",
       "0  LINESTRING (2336111.704 199689.851, 2336081.70...  \n",
       "1  LINESTRING (2336193.526 199686.529, 2336111.70...  \n",
       "2  LINESTRING (2332427.480 199709.000, 2332415.80...  \n",
       "3  LINESTRING (2346655.578 208437.410, 2346657.50...  \n",
       "4  LINESTRING (2328613.678 202650.011, 2328613.68...  "
      ]
     },
     "execution_count": 394,
     "metadata": {},
     "output_type": "execute_result"
    }
   ],
   "source": [
    "cn.head()"
   ]
  },
  {
   "cell_type": "code",
   "execution_count": 399,
   "id": "d7c0cb44",
   "metadata": {},
   "outputs": [
    {
     "data": {
      "text/plain": [
       "986148.1229424751"
      ]
     },
     "execution_count": 399,
     "metadata": {},
     "output_type": "execute_result"
    }
   ],
   "source": [
    "cn1=cn[cn['BIKE_LANE_']>0]\n",
    "cn1.geometry.length.sum()"
   ]
  },
  {
   "cell_type": "code",
   "execution_count": 401,
   "id": "53d5df2f",
   "metadata": {},
   "outputs": [
    {
     "data": {
      "text/plain": [
       "1985865.228803643"
      ]
     },
     "execution_count": 401,
     "metadata": {},
     "output_type": "execute_result"
    }
   ],
   "source": [
    "cn2=cn[cn['MARKED_CEN']=='T']\n",
    "cn2.geometry.length.sum()"
   ]
  },
  {
   "cell_type": "code",
   "execution_count": 396,
   "id": "a9a25f7a",
   "metadata": {},
   "outputs": [
    {
     "data": {
      "text/plain": [
       "11369715.039655194"
      ]
     },
     "execution_count": 396,
     "metadata": {},
     "output_type": "execute_result"
    }
   ],
   "source": [
    "cn.geometry.length.sum()"
   ]
  },
  {
   "cell_type": "code",
   "execution_count": 397,
   "id": "96ebaacf",
   "metadata": {},
   "outputs": [
    {
     "data": {
      "text/html": [
       "<div>\n",
       "<style scoped>\n",
       "    .dataframe tbody tr th:only-of-type {\n",
       "        vertical-align: middle;\n",
       "    }\n",
       "\n",
       "    .dataframe tbody tr th {\n",
       "        vertical-align: top;\n",
       "    }\n",
       "\n",
       "    .dataframe thead th {\n",
       "        text-align: right;\n",
       "    }\n",
       "</style>\n",
       "<table border=\"1\" class=\"dataframe\">\n",
       "  <thead>\n",
       "    <tr style=\"text-align: right;\">\n",
       "      <th></th>\n",
       "      <th>ROAD_ID</th>\n",
       "      <th>LANES</th>\n",
       "      <th>SPEED</th>\n",
       "      <th>EFFECTIVE_</th>\n",
       "      <th>PARKING_WI</th>\n",
       "      <th>BIKE_LANE_</th>\n",
       "      <th>STRESS</th>\n",
       "    </tr>\n",
       "  </thead>\n",
       "  <tbody>\n",
       "    <tr>\n",
       "      <th>count</th>\n",
       "      <td>144220.000000</td>\n",
       "      <td>131595.000000</td>\n",
       "      <td>131595.000000</td>\n",
       "      <td>114914.000000</td>\n",
       "      <td>16681.0</td>\n",
       "      <td>16681.0</td>\n",
       "      <td>144220.000000</td>\n",
       "    </tr>\n",
       "    <tr>\n",
       "      <th>mean</th>\n",
       "      <td>50283.787013</td>\n",
       "      <td>0.560660</td>\n",
       "      <td>24.295908</td>\n",
       "      <td>4585.912247</td>\n",
       "      <td>8.0</td>\n",
       "      <td>5.0</td>\n",
       "      <td>1.752572</td>\n",
       "    </tr>\n",
       "    <tr>\n",
       "      <th>std</th>\n",
       "      <td>36835.388270</td>\n",
       "      <td>0.851107</td>\n",
       "      <td>5.687286</td>\n",
       "      <td>7947.946167</td>\n",
       "      <td>0.0</td>\n",
       "      <td>0.0</td>\n",
       "      <td>1.147354</td>\n",
       "    </tr>\n",
       "    <tr>\n",
       "      <th>min</th>\n",
       "      <td>1.000000</td>\n",
       "      <td>0.000000</td>\n",
       "      <td>5.000000</td>\n",
       "      <td>100.000000</td>\n",
       "      <td>8.0</td>\n",
       "      <td>5.0</td>\n",
       "      <td>1.000000</td>\n",
       "    </tr>\n",
       "    <tr>\n",
       "      <th>25%</th>\n",
       "      <td>22231.250000</td>\n",
       "      <td>0.000000</td>\n",
       "      <td>20.000000</td>\n",
       "      <td>500.000000</td>\n",
       "      <td>8.0</td>\n",
       "      <td>5.0</td>\n",
       "      <td>1.000000</td>\n",
       "    </tr>\n",
       "    <tr>\n",
       "      <th>50%</th>\n",
       "      <td>42539.000000</td>\n",
       "      <td>0.000000</td>\n",
       "      <td>25.000000</td>\n",
       "      <td>500.000000</td>\n",
       "      <td>8.0</td>\n",
       "      <td>5.0</td>\n",
       "      <td>1.000000</td>\n",
       "    </tr>\n",
       "    <tr>\n",
       "      <th>75%</th>\n",
       "      <td>67985.250000</td>\n",
       "      <td>1.000000</td>\n",
       "      <td>25.000000</td>\n",
       "      <td>10000.000000</td>\n",
       "      <td>8.0</td>\n",
       "      <td>5.0</td>\n",
       "      <td>3.000000</td>\n",
       "    </tr>\n",
       "    <tr>\n",
       "      <th>max</th>\n",
       "      <td>148645.000000</td>\n",
       "      <td>6.000000</td>\n",
       "      <td>60.000000</td>\n",
       "      <td>33400.000000</td>\n",
       "      <td>8.0</td>\n",
       "      <td>5.0</td>\n",
       "      <td>4.000000</td>\n",
       "    </tr>\n",
       "  </tbody>\n",
       "</table>\n",
       "</div>"
      ],
      "text/plain": [
       "             ROAD_ID          LANES          SPEED     EFFECTIVE_  PARKING_WI  \\\n",
       "count  144220.000000  131595.000000  131595.000000  114914.000000     16681.0   \n",
       "mean    50283.787013       0.560660      24.295908    4585.912247         8.0   \n",
       "std     36835.388270       0.851107       5.687286    7947.946167         0.0   \n",
       "min         1.000000       0.000000       5.000000     100.000000         8.0   \n",
       "25%     22231.250000       0.000000      20.000000     500.000000         8.0   \n",
       "50%     42539.000000       0.000000      25.000000     500.000000         8.0   \n",
       "75%     67985.250000       1.000000      25.000000   10000.000000         8.0   \n",
       "max    148645.000000       6.000000      60.000000   33400.000000         8.0   \n",
       "\n",
       "       BIKE_LANE_         STRESS  \n",
       "count     16681.0  144220.000000  \n",
       "mean          5.0       1.752572  \n",
       "std           0.0       1.147354  \n",
       "min           5.0       1.000000  \n",
       "25%           5.0       1.000000  \n",
       "50%           5.0       1.000000  \n",
       "75%           5.0       3.000000  \n",
       "max           5.0       4.000000  "
      ]
     },
     "execution_count": 397,
     "metadata": {},
     "output_type": "execute_result"
    }
   ],
   "source": [
    "cn.describe()"
   ]
  },
  {
   "cell_type": "markdown",
   "id": "afa40a28",
   "metadata": {},
   "source": [
    "References\n",
    "1.https://docs.momepy.org/en/stable/user_guide/graph/convert.html"
   ]
  }
 ],
 "metadata": {
  "kernelspec": {
   "display_name": "Python 3 (ipykernel)",
   "language": "python",
   "name": "python3"
  },
  "language_info": {
   "codemirror_mode": {
    "name": "ipython",
    "version": 3
   },
   "file_extension": ".py",
   "mimetype": "text/x-python",
   "name": "python",
   "nbconvert_exporter": "python",
   "pygments_lexer": "ipython3",
   "version": "3.10.4"
  }
 },
 "nbformat": 4,
 "nbformat_minor": 5
}
